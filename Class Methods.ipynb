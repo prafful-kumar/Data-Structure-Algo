{
 "cells": [
  {
   "cell_type": "code",
   "execution_count": 3,
   "metadata": {},
   "outputs": [],
   "source": [
    "class ExpenseTracker:\n",
    "    \n",
    "    #class attributes\n",
    "    expense_tracker_version = 0.1\n",
    "    def __init__(self , tracker_category,original_balance,budget):\n",
    "        self.tracker_category = tracker_category\n",
    "        self.original_balance = original_balance\n",
    "        self.tracker_budget = budget\n",
    "        \n",
    "    #instance method\n",
    "    # self has to be a apart of it\n",
    "    def get_original_balance(self):\n",
    "        return self.original_balance\n",
    "    \n",
    "    #instance method\n",
    "    def check_balance(self,limit = 10000):\n",
    "        if self.tracker_budget>limit:\n",
    "            return \"Budget greater than limit\"\n",
    "        else:\n",
    "            return \"Budget is less than the limit\"\n",
    "        \n",
    "        \n",
    "        "
   ]
  },
  {
   "cell_type": "code",
   "execution_count": 4,
   "metadata": {},
   "outputs": [],
   "source": [
    "obj1 = ExpenseTracker(\"home\",0,1000)\n",
    "obj2 = ExpenseTracker(\"Family\",100,20000)"
   ]
  },
  {
   "cell_type": "code",
   "execution_count": 6,
   "metadata": {},
   "outputs": [
    {
     "data": {
      "text/plain": [
       "'Budget is less than the limit'"
      ]
     },
     "execution_count": 6,
     "metadata": {},
     "output_type": "execute_result"
    }
   ],
   "source": [
    "#taking by default value\n",
    "obj1.check_balance()"
   ]
  },
  {
   "cell_type": "code",
   "execution_count": 10,
   "metadata": {},
   "outputs": [
    {
     "data": {
      "text/plain": [
       "'Budget greater than limit'"
      ]
     },
     "execution_count": 10,
     "metadata": {},
     "output_type": "execute_result"
    }
   ],
   "source": [
    "#passing the value, in this case limit value will be 20\n",
    "\n",
    "obj1.check_balance(limit =20)"
   ]
  },
  {
   "cell_type": "markdown",
   "metadata": {},
   "source": [
    "# Static method"
   ]
  },
  {
   "cell_type": "code",
   "execution_count": 17,
   "metadata": {},
   "outputs": [],
   "source": [
    "class ExpenseTracker:\n",
    "    \n",
    "    #class attributes\n",
    "    expense_tracker_version = 0.1\n",
    "    def __init__(self , tracker_category,original_balance,budget):\n",
    "        self.tracker_category = tracker_category\n",
    "        self.original_balance = original_balance\n",
    "        self.tracker_budget = budget\n",
    "        \n",
    "    #instance method\n",
    "    # self has to be a apart of it\n",
    "    def get_original_balance(self):\n",
    "        return self.original_balance\n",
    "    \n",
    "    #instance method\n",
    "    def check_balance(self,limit = 10000):\n",
    "        if self.tracker_budget>limit:\n",
    "            return \"Budget greater than limit\"\n",
    "        else:\n",
    "            return \"Budget is less than the limit\"\n",
    "        \n",
    "    @staticmethod\n",
    "    # above is the decorator which is to written before the static function\n",
    "    # this function is converting the amount in correct format\n",
    "    # bcuz there is no self, we cant access object related variables\n",
    "    def convert_amount(amount):\n",
    "        return float(amount)\n",
    "    \n",
    "    "
   ]
  },
  {
   "cell_type": "code",
   "execution_count": 18,
   "metadata": {},
   "outputs": [],
   "source": [
    "obj1 = ExpenseTracker(\"home\",0,1000)\n",
    "obj2 = ExpenseTracker(\"Family\",100,20000)"
   ]
  },
  {
   "cell_type": "code",
   "execution_count": 19,
   "metadata": {},
   "outputs": [
    {
     "data": {
      "text/plain": [
       "1000.0"
      ]
     },
     "execution_count": 19,
     "metadata": {},
     "output_type": "execute_result"
    }
   ],
   "source": [
    "# accessing is different\n",
    "obj1.convert_amount(1000)\n",
    "#here we have to give value 1000\n",
    "\n",
    "#amount attribute dont get its value when initiating the object\n",
    "# against the concept of oops\n"
   ]
  },
  {
   "cell_type": "markdown",
   "metadata": {},
   "source": [
    "# Class method"
   ]
  },
  {
   "cell_type": "code",
   "execution_count": 24,
   "metadata": {},
   "outputs": [],
   "source": [
    "class ExpenseTracker:\n",
    "    \n",
    "    #class attributes\n",
    "    expense_tracker_version = 0.1\n",
    "    def __init__(self , tracker_category,original_balance,budget):\n",
    "        self.tracker_category = tracker_category\n",
    "        self.original_balance = original_balance\n",
    "        self.tracker_budget = budget\n",
    "        \n",
    "    #instance method\n",
    "    # self has to be a apart of it\n",
    "    def get_original_balance(self):\n",
    "        return self.original_balance\n",
    "    \n",
    "    #instance method\n",
    "    def check_balance(self,limit = 10000):\n",
    "        if self.tracker_budget>limit:\n",
    "            return \"Budget greater than limit\"\n",
    "        else:\n",
    "            return \"Budget is less than the limit\"\n",
    "        \n",
    "    @staticmethod\n",
    "    # above is the decorator which is to written before the static function\n",
    "    # this function is converting the amount in correct format\n",
    "    # bcuz there is no self, we cant access object related variables\n",
    "    def convert_amount(amount):\n",
    "        return float(amount)\n",
    "    \n",
    "    \n",
    "    #cls as first parameter\n",
    "    #define the type of the diary entry is string \n",
    "    # Remember that class function returh the object\n",
    "    @classmethod\n",
    "    def get_attribute_from_string(cls,diary_entry:str):\n",
    "        tracking_category, original_balance,tracker_budget = diary_entry.split(\" \")\n",
    "        return ExpenseTracker(tracking_category.capitalize(),\n",
    "                              cls.convert_amount(original_balance),\n",
    "                              cls.convert_amount(tracker_budget)\n",
    "                             )"
   ]
  },
  {
   "cell_type": "code",
   "execution_count": 25,
   "metadata": {},
   "outputs": [],
   "source": [
    "# Remember the way to create an object using class function method\n",
    "#it is like a global function, changes in class function affects the objects\n",
    "classobject = ExpenseTracker.get_attribute_from_string(\"shopping 0 10000\")"
   ]
  },
  {
   "cell_type": "code",
   "execution_count": 26,
   "metadata": {},
   "outputs": [
    {
     "data": {
      "text/plain": [
       "{'tracker_category': 'Shopping',\n",
       " 'original_balance': 0.0,\n",
       " 'tracker_budget': 10000.0}"
      ]
     },
     "execution_count": 26,
     "metadata": {},
     "output_type": "execute_result"
    }
   ],
   "source": [
    "classobject.__dict__"
   ]
  },
  {
   "cell_type": "code",
   "execution_count": null,
   "metadata": {},
   "outputs": [],
   "source": []
  }
 ],
 "metadata": {
  "kernelspec": {
   "display_name": "Python 3",
   "language": "python",
   "name": "python3"
  },
  "language_info": {
   "codemirror_mode": {
    "name": "ipython",
    "version": 3
   },
   "file_extension": ".py",
   "mimetype": "text/x-python",
   "name": "python",
   "nbconvert_exporter": "python",
   "pygments_lexer": "ipython3",
   "version": "3.8.3"
  }
 },
 "nbformat": 4,
 "nbformat_minor": 4
}
