{
 "cells": [
  {
   "cell_type": "code",
   "execution_count": 1,
   "metadata": {},
   "outputs": [],
   "source": [
    "class vehicle:\n",
    "    def __init__(self,make,model,fuel):\n",
    "        self.make = make\n",
    "        self.model = model\n",
    "        self.fuel = fuel\n",
    "        "
   ]
  },
  {
   "cell_type": "code",
   "execution_count": 6,
   "metadata": {},
   "outputs": [],
   "source": [
    "#Creating child class\n",
    "class Car(vehicle):\n",
    "    # getting parent's attribute\n",
    "    def __init__(self,make,model,fuel,AC,sunroof):\n",
    "        #parent attribute\n",
    "        vehicle.make = make\n",
    "        vehicle.model = model\n",
    "        vehicle.fuel = fuel\n",
    "        \n",
    "        self.AC = AC\n",
    "        self.sunroof = sunroof\n",
    "    \n",
    "    #to access parent attribute\n",
    "    def show_parent_attribute(self):\n",
    "        print(vehicle.make,\" \",vehicle.model,\" \",vehicle.fuel)"
   ]
  },
  {
   "cell_type": "code",
   "execution_count": 7,
   "metadata": {},
   "outputs": [],
   "source": [
    "myobj = Car(\"telsa\", 2020,\"electric\",True,True)"
   ]
  },
  {
   "cell_type": "code",
   "execution_count": 8,
   "metadata": {},
   "outputs": [
    {
     "data": {
      "text/plain": [
       "{'AC': True, 'sunroof': True}"
      ]
     },
     "execution_count": 8,
     "metadata": {},
     "output_type": "execute_result"
    }
   ],
   "source": [
    "#not able to see the parent's attribute\n",
    "myobj.__dict__"
   ]
  },
  {
   "cell_type": "code",
   "execution_count": 9,
   "metadata": {},
   "outputs": [
    {
     "data": {
      "text/plain": [
       "'telsa'"
      ]
     },
     "execution_count": 9,
     "metadata": {},
     "output_type": "execute_result"
    }
   ],
   "source": [
    "#but we can access the parent attribute from child class\n",
    "#bcuz make attribute is public attribute of parent class\n",
    "myobj.make"
   ]
  },
  {
   "cell_type": "code",
   "execution_count": 10,
   "metadata": {},
   "outputs": [
    {
     "name": "stdout",
     "output_type": "stream",
     "text": [
      "telsa   2020   electric\n"
     ]
    }
   ],
   "source": [
    "myobj.show_parent_attribute()\n"
   ]
  },
  {
   "cell_type": "markdown",
   "metadata": {},
   "source": [
    "# Private method in interitance"
   ]
  },
  {
   "cell_type": "code",
   "execution_count": 33,
   "metadata": {},
   "outputs": [],
   "source": [
    "class vehicle:\n",
    "    def __init__(self,make,model,fuel):\n",
    "        self.make = make\n",
    "        \n",
    "        #private attribute\n",
    "        self.__model = model\n",
    "        self.__fuel = fuel\n",
    "        \n",
    "    def __private_method_parent(self):\n",
    "        print(\"this is private of the parent\")\n",
    "        "
   ]
  },
  {
   "cell_type": "code",
   "execution_count": 34,
   "metadata": {},
   "outputs": [],
   "source": [
    "#Creating child class\n",
    "class Car(vehicle):\n",
    "    # getting parent's attribute\n",
    "    def __init__(self,make,model,fuel,AC,sunroof):\n",
    "        #parent attribute\n",
    "        vehicle.make = make\n",
    "        \n",
    "        #accessing parent private attribute\n",
    "        vehicle.__model = model\n",
    "        vehicle.__fuel = fuel\n",
    "        \n",
    "        self.AC = AC\n",
    "        self.sunroof = sunroof\n",
    "    \n",
    "    #to access parent attribute\n",
    "    def show_parent_attribute(self):\n",
    "        print(vehicle.make,\" \",vehicle.__model,\" \",vehicle.__fuel)\n",
    "        \n",
    "    def show_privatemethod_of_parent(self):\n",
    "        self._vehicle__private_method_parent()"
   ]
  },
  {
   "cell_type": "code",
   "execution_count": 35,
   "metadata": {},
   "outputs": [],
   "source": [
    "myobj1 = Car(\"Tesla\",2020,\"Electric\", True,True)"
   ]
  },
  {
   "cell_type": "code",
   "execution_count": 28,
   "metadata": {},
   "outputs": [
    {
     "data": {
      "text/plain": [
       "{'AC': True, 'sunroof': True}"
      ]
     },
     "execution_count": 28,
     "metadata": {},
     "output_type": "execute_result"
    }
   ],
   "source": [
    "myobj1.__dict__"
   ]
  },
  {
   "cell_type": "code",
   "execution_count": 29,
   "metadata": {},
   "outputs": [
    {
     "name": "stdout",
     "output_type": "stream",
     "text": [
      "Tesla   2020   Electric\n"
     ]
    }
   ],
   "source": [
    "#able to access public and private attr of parent class  using the function\n",
    "myobj1.show_parent_attribute()"
   ]
  },
  {
   "cell_type": "code",
   "execution_count": 30,
   "metadata": {},
   "outputs": [
    {
     "data": {
      "text/plain": [
       "'Tesla'"
      ]
     },
     "execution_count": 30,
     "metadata": {},
     "output_type": "execute_result"
    }
   ],
   "source": [
    "myobj1.make\n"
   ]
  },
  {
   "cell_type": "code",
   "execution_count": 10,
   "metadata": {},
   "outputs": [
    {
     "ename": "AttributeError",
     "evalue": "'Car' object has no attribute 'model'",
     "output_type": "error",
     "traceback": [
      "\u001b[1;31m---------------------------------------------------------------------------\u001b[0m",
      "\u001b[1;31mAttributeError\u001b[0m                            Traceback (most recent call last)",
      "\u001b[1;32m<ipython-input-10-ee9776f8f06e>\u001b[0m in \u001b[0;36m<module>\u001b[1;34m\u001b[0m\n\u001b[1;32m----> 1\u001b[1;33m \u001b[0mmyobj1\u001b[0m\u001b[1;33m.\u001b[0m\u001b[0mmodel\u001b[0m\u001b[1;33m\u001b[0m\u001b[1;33m\u001b[0m\u001b[0m\n\u001b[0m",
      "\u001b[1;31mAttributeError\u001b[0m: 'Car' object has no attribute 'model'"
     ]
    }
   ],
   "source": [
    "myobj1.model"
   ]
  },
  {
   "cell_type": "code",
   "execution_count": 16,
   "metadata": {},
   "outputs": [
    {
     "ename": "AttributeError",
     "evalue": "'Car' object has no attribute '__model'",
     "output_type": "error",
     "traceback": [
      "\u001b[1;31m---------------------------------------------------------------------------\u001b[0m",
      "\u001b[1;31mAttributeError\u001b[0m                            Traceback (most recent call last)",
      "\u001b[1;32m<ipython-input-16-da8489aed59d>\u001b[0m in \u001b[0;36m<module>\u001b[1;34m\u001b[0m\n\u001b[1;32m----> 1\u001b[1;33m \u001b[0mmyobj1\u001b[0m\u001b[1;33m.\u001b[0m\u001b[0m__model\u001b[0m\u001b[1;33m\u001b[0m\u001b[1;33m\u001b[0m\u001b[0m\n\u001b[0m\u001b[0;32m      2\u001b[0m \u001b[1;31m#now we have a security layer\u001b[0m\u001b[1;33m\u001b[0m\u001b[1;33m\u001b[0m\u001b[1;33m\u001b[0m\u001b[0m\n",
      "\u001b[1;31mAttributeError\u001b[0m: 'Car' object has no attribute '__model'"
     ]
    }
   ],
   "source": [
    "myobj1.__model\n",
    "#now we have a security layer"
   ]
  },
  {
   "cell_type": "code",
   "execution_count": 17,
   "metadata": {},
   "outputs": [
    {
     "ename": "AttributeError",
     "evalue": "'Car' object has no attribute '__private_method'",
     "output_type": "error",
     "traceback": [
      "\u001b[1;31m---------------------------------------------------------------------------\u001b[0m",
      "\u001b[1;31mAttributeError\u001b[0m                            Traceback (most recent call last)",
      "\u001b[1;32m<ipython-input-17-7726f8e3d283>\u001b[0m in \u001b[0;36m<module>\u001b[1;34m\u001b[0m\n\u001b[1;32m----> 1\u001b[1;33m \u001b[0mmyobj1\u001b[0m\u001b[1;33m.\u001b[0m\u001b[0m__private_method\u001b[0m\u001b[1;33m(\u001b[0m\u001b[1;33m)\u001b[0m\u001b[1;33m\u001b[0m\u001b[1;33m\u001b[0m\u001b[0m\n\u001b[0m",
      "\u001b[1;31mAttributeError\u001b[0m: 'Car' object has no attribute '__private_method'"
     ]
    }
   ],
   "source": [
    "myobj1.__private_method()"
   ]
  },
  {
   "cell_type": "code",
   "execution_count": 18,
   "metadata": {
    "scrolled": true
   },
   "outputs": [
    {
     "ename": "AttributeError",
     "evalue": "'Car' object has no attribute '_vehicle__private_method_parent'",
     "output_type": "error",
     "traceback": [
      "\u001b[1;31m---------------------------------------------------------------------------\u001b[0m",
      "\u001b[1;31mAttributeError\u001b[0m                            Traceback (most recent call last)",
      "\u001b[1;32m<ipython-input-18-1dc38a05052d>\u001b[0m in \u001b[0;36m<module>\u001b[1;34m\u001b[0m\n\u001b[1;32m----> 1\u001b[1;33m \u001b[0mmyobj1\u001b[0m\u001b[1;33m.\u001b[0m\u001b[0m_vehicle__private_method_parent\u001b[0m\u001b[1;33m(\u001b[0m\u001b[1;33m)\u001b[0m\u001b[1;33m\u001b[0m\u001b[1;33m\u001b[0m\u001b[0m\n\u001b[0m",
      "\u001b[1;31mAttributeError\u001b[0m: 'Car' object has no attribute '_vehicle__private_method_parent'"
     ]
    }
   ],
   "source": [
    "myobj1._vehicle__private_method_parent()\n"
   ]
  },
  {
   "cell_type": "code",
   "execution_count": 36,
   "metadata": {},
   "outputs": [
    {
     "name": "stdout",
     "output_type": "stream",
     "text": [
      "this is private of the parent\n"
     ]
    }
   ],
   "source": [
    "myobj1.show_privatemethod_of_parent()"
   ]
  },
  {
   "cell_type": "markdown",
   "metadata": {},
   "source": [
    "# Super function"
   ]
  },
  {
   "cell_type": "code",
   "execution_count": 37,
   "metadata": {},
   "outputs": [],
   "source": [
    "class vehicle:\n",
    "    def __init__(self,make,model,fuel):\n",
    "        self.make = make\n",
    "        \n",
    "        #private attribute\n",
    "        self.__model = model\n",
    "        self.__fuel = fuel\n",
    "        \n",
    "    def __private_method_parent(self):\n",
    "        print(\"this is private of the parent\")\n",
    "        "
   ]
  },
  {
   "cell_type": "code",
   "execution_count": 42,
   "metadata": {},
   "outputs": [],
   "source": [
    "#Accesing private parent method\n",
    "class Car(vehicle):\n",
    "    # getting parent's attribute\n",
    "    def __init__(self,make,model,fuel,AC,sunroof):\n",
    "        \n",
    "        super(Car,self).__init__(make,model,fuel)\n",
    "        \n",
    "        \n",
    "#         #parent attribute\n",
    "#         vehicle.make = make\n",
    "        \n",
    "#         #accessing parent private attribute\n",
    "#         vehicle.__model = model\n",
    "#         vehicle.__fuel = fuel\n",
    "        \n",
    "        self.AC = AC\n",
    "        self.sunroof = sunroof\n",
    "    \n",
    "#     #to access parent attribute\n",
    "#     def show_parent_attribute(self):\n",
    "#         print(vehicle.make,\" \",vehicle.__model,\" \",vehicle.__fuel)\n",
    "        \n",
    "#     def show_privatemethod_of_parent(self):\n",
    "#         self._vehicle__private_method_parent()\n",
    "\n"
   ]
  },
  {
   "cell_type": "code",
   "execution_count": 43,
   "metadata": {},
   "outputs": [],
   "source": [
    "myobj1 = Car(\"Tesla\",2020,\"Electric\", True,True)"
   ]
  },
  {
   "cell_type": "code",
   "execution_count": 44,
   "metadata": {},
   "outputs": [
    {
     "data": {
      "text/plain": [
       "{'make': 'Tesla',\n",
       " '_vehicle__model': 2020,\n",
       " '_vehicle__fuel': 'Electric',\n",
       " 'AC': True,\n",
       " 'sunroof': True}"
      ]
     },
     "execution_count": 44,
     "metadata": {},
     "output_type": "execute_result"
    }
   ],
   "source": [
    "# previously we were not able to access the parent attrbutes\n",
    "# now this method is showing us all the parent attribute \n",
    "\n",
    "myobj1.__dict__"
   ]
  },
  {
   "cell_type": "code",
   "execution_count": 47,
   "metadata": {},
   "outputs": [
    {
     "name": "stdout",
     "output_type": "stream",
     "text": [
      "this is private of the parent\n"
     ]
    }
   ],
   "source": [
    "# tring to access parent function which we were not able to access earlier\n",
    "# we had to use the child function to access the parent function using name mangling\n",
    "# but now we can directly access using the object itself\n",
    "myobj1._vehicle__private_method_parent()\n"
   ]
  },
  {
   "cell_type": "markdown",
   "metadata": {},
   "source": [
    "Just by using super function, not only we have specific instance attribute for the child class but we also have specific instance attribute for the parent class. "
   ]
  }
 ],
 "metadata": {
  "kernelspec": {
   "display_name": "Python 3",
   "language": "python",
   "name": "python3"
  },
  "language_info": {
   "codemirror_mode": {
    "name": "ipython",
    "version": 3
   },
   "file_extension": ".py",
   "mimetype": "text/x-python",
   "name": "python",
   "nbconvert_exporter": "python",
   "pygments_lexer": "ipython3",
   "version": "3.8.3"
  }
 },
 "nbformat": 4,
 "nbformat_minor": 4
}
