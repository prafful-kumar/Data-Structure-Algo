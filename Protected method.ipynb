{
 "cells": [
  {
   "cell_type": "code",
   "execution_count": 8,
   "metadata": {},
   "outputs": [],
   "source": [
    "class vehicle:\n",
    "    \n",
    "    current_year = 2021\n",
    "    base_price = 1000\n",
    "    def __init__(self,make,model,fuel):\n",
    "        self.make = make\n",
    "        \n",
    "        #protected attribute\n",
    "        # one underscore is required for protected methods\n",
    "        self._model = model\n",
    "        self._fuel = fuel\n",
    "        \n",
    "    def _protected_method_parent(self):\n",
    "        print(\"this is private of the parent\")\n",
    "    \n",
    "    # default function to get value of car\n",
    "    def _get_valueof_vehicle(self):\n",
    "        age = vehicle.current_year - self._model\n",
    "        print(\"default method of parent\")\n",
    "        return vehicle.base_price*(1/age)\n",
    "        "
   ]
  },
  {
   "cell_type": "code",
   "execution_count": 9,
   "metadata": {},
   "outputs": [],
   "source": [
    "#Accesing private parent method\n",
    "class Car(vehicle):\n",
    "    \n",
    "    # getting parent's attribute\n",
    "    def __init__(self,make,model,fuel,AC,sunroof):\n",
    "        \n",
    "        super(Car,self).__init__(make,model,fuel)\n",
    "\n",
    "        \n",
    "        self._AC = AC\n",
    "        self.sunroof = sunroof\n",
    "        \n",
    "     # Overriding method - replaces the parent default method\n",
    "    def get_valueof_vehicle(self):\n",
    "        vehicle.base_price = 5000\n",
    "        age = vehicle.current_year - self._model\n",
    "        print(\"Child method\")\n",
    "\n",
    "        return vehicle.base_price*(1/age)"
   ]
  },
  {
   "cell_type": "code",
   "execution_count": 10,
   "metadata": {},
   "outputs": [],
   "source": [
    "myobj = Car(\"mahindra thar\",2020,\"diesel\",True,True)"
   ]
  },
  {
   "cell_type": "code",
   "execution_count": 11,
   "metadata": {},
   "outputs": [
    {
     "data": {
      "text/plain": [
       "{'make': 'mahindra thar',\n",
       " '_model': 2020,\n",
       " '_fuel': 'diesel',\n",
       " '_AC': True,\n",
       " 'sunroof': True}"
      ]
     },
     "execution_count": 11,
     "metadata": {},
     "output_type": "execute_result"
    }
   ],
   "source": [
    "myobj.__dict__"
   ]
  },
  {
   "cell_type": "code",
   "execution_count": 12,
   "metadata": {},
   "outputs": [
    {
     "data": {
      "text/plain": [
       "True"
      ]
     },
     "execution_count": 12,
     "metadata": {},
     "output_type": "execute_result"
    }
   ],
   "source": [
    "myobj._AC"
   ]
  },
  {
   "cell_type": "code",
   "execution_count": 13,
   "metadata": {},
   "outputs": [
    {
     "name": "stdout",
     "output_type": "stream",
     "text": [
      "default method of parent\n"
     ]
    },
    {
     "data": {
      "text/plain": [
       "1000.0"
      ]
     },
     "execution_count": 13,
     "metadata": {},
     "output_type": "execute_result"
    }
   ],
   "source": [
    "myobj._get_valueof_vehicle()"
   ]
  },
  {
   "cell_type": "code",
   "execution_count": 14,
   "metadata": {},
   "outputs": [
    {
     "name": "stdout",
     "output_type": "stream",
     "text": [
      "Child method\n"
     ]
    },
    {
     "data": {
      "text/plain": [
       "5000.0"
      ]
     },
     "execution_count": 14,
     "metadata": {},
     "output_type": "execute_result"
    }
   ],
   "source": [
    "myobj.get_valueof_vehicle()"
   ]
  },
  {
   "cell_type": "code",
   "execution_count": null,
   "metadata": {},
   "outputs": [],
   "source": []
  }
 ],
 "metadata": {
  "kernelspec": {
   "display_name": "Python 3",
   "language": "python",
   "name": "python3"
  },
  "language_info": {
   "codemirror_mode": {
    "name": "ipython",
    "version": 3
   },
   "file_extension": ".py",
   "mimetype": "text/x-python",
   "name": "python",
   "nbconvert_exporter": "python",
   "pygments_lexer": "ipython3",
   "version": "3.8.3"
  }
 },
 "nbformat": 4,
 "nbformat_minor": 4
}
