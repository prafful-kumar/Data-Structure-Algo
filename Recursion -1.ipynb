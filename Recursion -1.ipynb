{
 "cells": [
  {
   "cell_type": "markdown",
   "metadata": {},
   "source": [
    "# Print n to 1 and 1 to n using recursion"
   ]
  },
  {
   "cell_type": "code",
   "execution_count": 1,
   "metadata": {},
   "outputs": [],
   "source": [
    "# by changing the print position, output changes\n",
    "def print_n_to_1(n):\n",
    "    # base case\n",
    "    if n == 0:\n",
    "        return\n",
    "    \n",
    "    print(n)\n",
    "    print_n_to_1(n-1)\n",
    "    return\n",
    "    \n",
    "def print_1_to_n(n):\n",
    "    if n == 0:\n",
    "        return\n",
    "    print_1_to_n(n-1)\n",
    "    print(n)\n",
    "    return\n",
    "    "
   ]
  },
  {
   "cell_type": "markdown",
   "metadata": {},
   "source": [
    "# Power of a number"
   ]
  },
  {
   "cell_type": "code",
   "execution_count": null,
   "metadata": {},
   "outputs": [],
   "source": [
    "a, b = input().split()\n",
    "a = int(a)\n",
    "b = int(b)\n",
    "\n",
    "\n",
    "def power(a,b):\n",
    "    if b == 0:\n",
    "        return 1\n",
    "    small = power(a,b-1)\n",
    "    a = a * small\n",
    "    return a\n",
    "    \n",
    "print(power(a,b))"
   ]
  },
  {
   "cell_type": "markdown",
   "metadata": {},
   "source": [
    "# Fibonacci"
   ]
  },
  {
   "cell_type": "code",
   "execution_count": 2,
   "metadata": {},
   "outputs": [],
   "source": [
    "def fib(n):\n",
    "    if n <=1:\n",
    "        return n\n",
    "    output = fib(n-1) +fib(n-2)\n",
    "    return output"
   ]
  },
  {
   "cell_type": "markdown",
   "metadata": {},
   "source": [
    "# Check if sorted or not"
   ]
  },
  {
   "cell_type": "code",
   "execution_count": 4,
   "metadata": {},
   "outputs": [],
   "source": [
    "# ascending\n",
    "def issorted(arr):\n",
    "    l = len(arr)\n",
    "    \n",
    "    if l == 0 or l==1:\n",
    "        return True\n",
    "    if arr[0]> arr[1]:\n",
    "        return False\n",
    "    \n",
    "    return issorted(arr[1:])\n",
    "\n",
    "# better\n",
    "def issortedBetter(arr,index):\n",
    "    l = len(arr)\n",
    "    \n",
    "    if index == l-1 or index == l:\n",
    "        return True\n",
    "    if arr[index]>arr[index+1]:\n",
    "        return False\n",
    "    \n",
    "    return issortedBetter(arr,index+1)"
   ]
  },
  {
   "cell_type": "markdown",
   "metadata": {},
   "source": [
    "# First Index of number"
   ]
  },
  {
   "cell_type": "code",
   "execution_count": null,
   "metadata": {},
   "outputs": [],
   "source": [
    "# arr is the array in which we have to find number x\n",
    "def firstIndex(arr,x):\n",
    "    l = len(arr)\n",
    "    if l == 0:\n",
    "        return -1\n",
    "    if arr[0] == x:\n",
    "        return 0\n",
    "    smallerListouput = firstIndex(arr[1:],x)\n",
    "    \n",
    "    if smallerListouput == -1:\n",
    "        return -1\n",
    "    else:\n",
    "        return smallerListouput + 1\n",
    "    \n",
    "def firstIndexBetter(arr,x,index):\n",
    "    \n",
    "    l = len(arr)\n",
    "    \n",
    "    if index == l:\n",
    "        return -1\n",
    "    if arr[index] == x:\n",
    "        return index\n",
    "    \n",
    "    smallerListoutput = firstIndexBetter(arr,x,index +1)\n",
    "    return smallerListoutput"
   ]
  },
  {
   "cell_type": "markdown",
   "metadata": {},
   "source": [
    "# Last Index of number"
   ]
  },
  {
   "cell_type": "code",
   "execution_count": null,
   "metadata": {},
   "outputs": [],
   "source": [
    "# first go till the end of array and then check for x from backwards.\n",
    "def lastIndex(arr,x):\n",
    "    l = len(arr) \n",
    "    if l == 0:\n",
    "        return -1\n",
    "    \n",
    "    smaller_output = lastIndex(arr[1:],x)\n",
    "    if smaller_output != -1:\n",
    "        return smaller_output+1\n",
    "    else:\n",
    "        if arr[0] == x:\n",
    "            return 0\n",
    "        else:\n",
    "            return -1\n",
    "        \n",
    "def lastIndexB(arr,x,index):\n",
    "    l = len(arr)\n",
    "    if index ==l:\n",
    "        return -1\n",
    "    \n",
    "    smaller_output = lastIndexB(arr,x,index+1)\n",
    "    if smaller_output != -1:\n",
    "        return smaller_output\n",
    "    else:\n",
    "        if arr[index] == x:\n",
    "            return index\n",
    "        else:\n",
    "            return -1"
   ]
  },
  {
   "cell_type": "markdown",
   "metadata": {},
   "source": [
    "# All Indices of a Number"
   ]
  },
  {
   "cell_type": "code",
   "execution_count": 43,
   "metadata": {},
   "outputs": [],
   "source": [
    "def all_index(arr,x,index):\n",
    "    l = len(arr)\n",
    "    print(index)\n",
    "    if l == index:\n",
    "        ans = [] # empty array\n",
    "        return ans\n",
    "        \n",
    "        \n",
    "    smaller_output = all_index(arr,x,index+1)\n",
    "    if arr[index] == x:\n",
    "        if not smaller_output:\n",
    "            temp = []\n",
    "            return temp + [index]\n",
    "        else:\n",
    "            \n",
    "            return smaller_output+[index]\n",
    "    else:\n",
    "        return smaller_output"
   ]
  },
  {
   "cell_type": "code",
   "execution_count": 45,
   "metadata": {},
   "outputs": [
    {
     "name": "stdout",
     "output_type": "stream",
     "text": [
      "0\n",
      "1\n",
      "2\n",
      "3\n",
      "4\n",
      "5\n",
      "[3, 2, 0]\n"
     ]
    }
   ],
   "source": [
    "arr = [5,6,5,5,6]\n",
    "x = 5\n",
    "print(all_index(arr,x,0))"
   ]
  },
  {
   "cell_type": "code",
   "execution_count": 49,
   "metadata": {},
   "outputs": [
    {
     "name": "stdout",
     "output_type": "stream",
     "text": [
      "[0, 2, 3]\n"
     ]
    }
   ],
   "source": [
    "def find_all(L, v):\n",
    "    if not L:\n",
    "        return []\n",
    "\n",
    "    result = []\n",
    "    if L[-1] == v:\n",
    "        result = [len(L)-1]\n",
    "    small = find_all(L[:-1], v)\n",
    "    return small + result\n",
    "    \n",
    "arr = [5,6,5,5,6]\n",
    "x = 5\n",
    "print(find_all(arr,x))"
   ]
  },
  {
   "cell_type": "code",
   "execution_count": 14,
   "metadata": {},
   "outputs": [
    {
     "name": "stdout",
     "output_type": "stream",
     "text": [
      "[0, 2, 3]\n"
     ]
    }
   ],
   "source": [
    "# using iteration\n",
    "arr = [5,6,5,5,6]\n",
    "indices = [i for i, x in enumerate(arr) if x == 5]\n",
    "print(indices)"
   ]
  },
  {
   "cell_type": "code",
   "execution_count": null,
   "metadata": {},
   "outputs": [],
   "source": []
  }
 ],
 "metadata": {
  "kernelspec": {
   "display_name": "Python 3",
   "language": "python",
   "name": "python3"
  },
  "language_info": {
   "codemirror_mode": {
    "name": "ipython",
    "version": 3
   },
   "file_extension": ".py",
   "mimetype": "text/x-python",
   "name": "python",
   "nbconvert_exporter": "python",
   "pygments_lexer": "ipython3",
   "version": "3.8.3"
  }
 },
 "nbformat": 4,
 "nbformat_minor": 4
}
