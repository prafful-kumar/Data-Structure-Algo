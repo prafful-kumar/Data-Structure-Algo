{
 "cells": [
  {
   "cell_type": "code",
   "execution_count": null,
   "metadata": {},
   "outputs": [],
   "source": []
  },
  {
   "cell_type": "code",
   "execution_count": null,
   "metadata": {},
   "outputs": [],
   "source": []
  },
  {
   "cell_type": "markdown",
   "metadata": {},
   "source": [
    "O(n^2) is the time complexity. Traversing the List take time. Time complexity was more of the earlier solution. "
   ]
  },
  {
   "cell_type": "markdown",
   "metadata": {},
   "source": [
    "# Reverse LL optimized"
   ]
  },
  {
   "cell_type": "code",
   "execution_count": null,
   "metadata": {},
   "outputs": [],
   "source": [
    "def reverse_opt(head):\n",
    "    if head == None or head.next == None:\n",
    "        return head, head\n",
    "    smallhead,smalltail = reverse_opt(head.next)\n",
    "    smalltail.next = head\n",
    "    head.next = None\n",
    "    return smallhead,head"
   ]
  },
  {
   "cell_type": "markdown",
   "metadata": {},
   "source": [
    "In this solution we are removing the traversing part by returning a smalltail with smallhead."
   ]
  },
  {
   "cell_type": "markdown",
   "metadata": {},
   "source": [
    "# Best solution -O(n)"
   ]
  },
  {
   "cell_type": "code",
   "execution_count": null,
   "metadata": {},
   "outputs": [],
   "source": [
    "def reverse_best(head):\n",
    "    if head is None or head.next is None:\n",
    "        return head\n",
    "    smallhead = reverve_best(head.next)\n",
    "    tail = head.next\n",
    "    tail.next = head\n",
    "    head.next = None\n",
    "    return smallhead"
   ]
  },
  {
   "cell_type": "markdown",
   "metadata": {},
   "source": [
    "We already have head as tail. tail is present at head.next\n",
    "** Asked in many interview**"
   ]
  },
  {
   "cell_type": "markdown",
   "metadata": {},
   "source": [
    "# Reverse LL (Iterative)\n",
    "\n",
    "Given a singly linked list of integers, reverse it iteratively and return the head to the modified list."
   ]
  },
  {
   "cell_type": "code",
   "execution_count": 1,
   "metadata": {},
   "outputs": [],
   "source": [
    "def takeInput() :\n",
    "    head = None\n",
    "    tail = None\n",
    "\n",
    "    datas = list(map(int, stdin.readline().rstrip().split(\" \")))\n",
    "\n",
    "    i = 0\n",
    "    while (i < len(datas)) and (datas[i] != -1) :\n",
    "        data = datas[i]\n",
    "        newNode = Node(data)\n",
    "\n",
    "        if head is None :\n",
    "            head = newNode\n",
    "            tail = newNode\n",
    "\n",
    "        else :\n",
    "            tail.next = newNode\n",
    "            tail = newNode\n",
    "\n",
    "        i += 1\n",
    "\n",
    "\n",
    "    return head\n"
   ]
  },
  {
   "cell_type": "markdown",
   "metadata": {},
   "source": [
    "# Midpoint of Linked list\n",
    "\n",
    "For a given singly linked list of integers, find and return the node present at the middle of the list."
   ]
  },
  {
   "cell_type": "code",
   "execution_count": 2,
   "metadata": {},
   "outputs": [],
   "source": [
    "\n",
    "def midPoint(head) :\n",
    "    # Write your code here\n",
    "    if head is None:\n",
    "        return head\n",
    "    fast = head\n",
    "    slow = head\n",
    "    while fast.next!=None and fast.next.next!=None:\n",
    "        slow = slow.next\n",
    "        fast = fast.next.next\n",
    "    return slow"
   ]
  },
  {
   "cell_type": "markdown",
   "metadata": {},
   "source": [
    "# Code : Merge two sorted LL\n",
    "\n",
    "You have been given two sorted(in ascending order) singly linked lists of integers.\n",
    "Write a function to merge them in such a way that the resulting singly linked list is also sorted(in ascending order) and return the new head to the list."
   ]
  },
  {
   "cell_type": "code",
   "execution_count": 3,
   "metadata": {},
   "outputs": [],
   "source": [
    "\n",
    "def mergeTwoSortedLinkedLists(head1, head2):\n",
    "    temp = None\n",
    "    if head1 is None:\n",
    "        return head2\n",
    "    if head2 is None:\n",
    "        return head1\n",
    "    \n",
    "    if head1.data <= head2.data:\n",
    "        temp = head1\n",
    "        temp.next = mergeTwoSortedLinkedLists(head1.next, head2)\n",
    "    else:\n",
    "        temp = head2\n",
    "        temp.next = mergeTwoSortedLinkedLists(head1, head2.next)\n",
    "    \n",
    "    return temp\n"
   ]
  },
  {
   "cell_type": "markdown",
   "metadata": {},
   "source": [
    "#  Merge Sort LL\n",
    "\n",
    " Given a singly linked list of integers, sort it using 'Merge Sort.'"
   ]
  },
  {
   "cell_type": "code",
   "execution_count": 4,
   "metadata": {},
   "outputs": [],
   "source": [
    "\n",
    "def midPoint(head) :\n",
    "    # Write your code here\n",
    "    if head is None:\n",
    "        return head\n",
    "    fast = head\n",
    "    slow = head\n",
    "    while fast.next!=None and fast.next.next!=None:\n",
    "        slow = slow.next\n",
    "        fast = fast.next.next\n",
    "    return slow\n",
    "\n",
    "\n",
    "\n",
    "def mergeTwoSortedLinkedLists(head1, head2):\n",
    "    temp = None\n",
    "    if head1 is None:\n",
    "        return head2\n",
    "    if head2 is None:\n",
    "        return head1\n",
    "    if head1.data <= head2.data:\n",
    "        temp = head1\n",
    "        temp.next = mergeTwoSortedLinkedLists(head1.next, head2)\n",
    "    else:\n",
    "        temp = head2\n",
    "        temp.next = mergeTwoSortedLinkedLists(head1, head2.next)\n",
    "    \n",
    "    return temp\n",
    "\n",
    "    # Write your code here\n",
    "    \n",
    "\n",
    "def mergeSort(head) :\n",
    "\t#Your code goes here\n",
    "    \n",
    "    \n",
    "    if head == None :\n",
    "        return head\n",
    "    if head.next == None:\n",
    "        return head\n",
    "    mid = midPoint(head)\n",
    "    secondhead = mid.next\n",
    "    mid.next = None\n",
    "    head1 = mergeSort(head)\n",
    "    head2 = mergeSort(secondhead)\n",
    "    \n",
    "    smallhead = mergeTwoSortedLinkedLists(head1,head2)\n",
    "    return smallhead"
   ]
  },
  {
   "cell_type": "markdown",
   "metadata": {},
   "source": [
    "**Circular doubly LL**\n",
    "\n",
    "Given an unsorted circular doubly linked list, suppose you have reference (or pointer) to its head node only, which of the following operation can be implemented in O(1) time?\n",
    "i) Insertion at the front of the linked list\n",
    "ii) Insertion at the end of the linked list\n",
    "iii) Deletion of the last node of the linked list\n",
    "iv) Deletion of the front node of the linked list\n",
    "\n",
    "ANS - ALL\n",
    "\n",
    "**Double LL**\n",
    "\n",
    "Given an unsorted doubly Linked List, suppose you have references (or pointer) to its head and tail nodes, which of the following operation can be implemented in O(1) time ?\n",
    "i) Insertion at the front of the linked list\n",
    "ii) Insertion at the end of the linked list\n",
    "iii) Deletion of the last node of the linked list\n",
    "iv) Deletion of the front node of the linked list\n",
    "\n",
    "ANS - ALL\n",
    "\n",
    "**Circular LL**\n",
    "\n",
    "Given an unsorted circular linked list, suppose you have reference (or pointer) to its head node only, which of the following operation can be implemented in O(1) time?\n",
    "\n",
    "ANS - NONE"
   ]
  },
  {
   "cell_type": "markdown",
   "metadata": {},
   "source": [
    "# Find a node in LL (recursive)\n",
    "\n",
    "Given a singly linked list of integers and an integer n, find and return the index for the first occurrence of 'n' in the linked list. -1 otherwise.\n",
    "Follow a recursive approach to solve this."
   ]
  },
  {
   "cell_type": "code",
   "execution_count": 5,
   "metadata": {},
   "outputs": [],
   "source": [
    "\n",
    "def findNodeRec(head, n) :\n",
    "\t#Your code goes here\n",
    "    count = 0\n",
    "    if head == None:\n",
    "        return -1\n",
    "\n",
    "    if head.data ==n:\n",
    "        return 0\n",
    "    small = findNodeRec(head.next, n)\n",
    "    if small== -1:\n",
    "        if head.data == n:\n",
    "            return 0\n",
    "        else:\n",
    "            return -1\n",
    "    else:\n",
    "        count = small+1\n",
    "    return count"
   ]
  },
  {
   "cell_type": "markdown",
   "metadata": {},
   "source": [
    "# Even after Odd LinkedList\n",
    "\n",
    "For a given singly linked list of integers, arrange the elements such that all the even numbers are placed after the odd numbers. The relative order of the odd and even terms should remain unchanged."
   ]
  },
  {
   "cell_type": "code",
   "execution_count": 6,
   "metadata": {},
   "outputs": [],
   "source": [
    "        \n",
    "def evenAfterOdd(head) :\n",
    "    Ehead = None\n",
    "    Etail = None\n",
    "    Ohead = None\n",
    "    Otail = None\n",
    "    \n",
    "    \n",
    "    while head != None:\n",
    "        if head.data %2 ==0:\n",
    "            if Ehead ==None:\n",
    "                Ehead = head\n",
    "                Etail = head\n",
    "            else:\n",
    "                Etail.next = head\n",
    "                Etail = Etail.next\n",
    "        else:\n",
    "            if Ohead == None:\n",
    "                Ohead = head\n",
    "                Otail = head\n",
    "            else:\n",
    "                Otail.next = head\n",
    "                Otail = Otail.next\n",
    "        head = head.next\n",
    "\n",
    "    if Etail == None:\n",
    "        if Otail == None:\n",
    "        \treturn None\n",
    "        else:\n",
    "            return Ohead\n",
    "    if Otail == None:\n",
    "        if Etail == None:\n",
    "            return None\n",
    "        else:\n",
    "            return Ehead\n",
    "    Otail.next = None\n",
    "    Etail.next = None\n",
    "    Otail.next = Ehead\n",
    "    return Ohead"
   ]
  },
  {
   "cell_type": "markdown",
   "metadata": {},
   "source": [
    "# Delete every N nodes\n",
    "\n",
    "You have been given a singly linked list of integers along with two integers, 'M,' and 'N.' Traverse the linked list such that you retain the 'M' nodes, then delete the next 'N' nodes. Continue the same until the end of the linked list.\n",
    "To put it in other words, in the given linked list, you need to delete N nodes after every M nodes."
   ]
  },
  {
   "cell_type": "code",
   "execution_count": 7,
   "metadata": {},
   "outputs": [],
   "source": [
    "\n",
    "def skipMdeleteN(head, M, N) :\n",
    "\n",
    "    if M == 0 or head is None :\n",
    "        return None\n",
    "    if N == 0 :\n",
    "        return head\n",
    "    currentNode = head\n",
    "    temp = None\n",
    "    while currentNode is not None :\n",
    "        retain = 0\n",
    "        skip = 0\n",
    "        while currentNode is not None and retain < M :\n",
    "            if temp is None :\n",
    "                temp = currentNode\n",
    "            else :\n",
    "                temp.next = currentNode\n",
    "                temp = currentNode\n",
    "            currentNode = currentNode.next\n",
    "            retain += 1\n",
    "        while currentNode is not None and skip < N :\n",
    "            currentNode = currentNode.next\n",
    "            skip += 1\n",
    "    if temp is not None :\n",
    "        temp.next = None\n",
    "    return head"
   ]
  },
  {
   "cell_type": "markdown",
   "metadata": {},
   "source": [
    "# Swap two Nodes of LL\n",
    "\n",
    "You have been given a singly linked list of integers along with two integers, 'i,' and 'j.' Swap the nodes that are present at the 'i-th' and 'j-th' positions."
   ]
  },
  {
   "cell_type": "code",
   "execution_count": 8,
   "metadata": {},
   "outputs": [],
   "source": [
    "\n",
    "def swapNodes(head, i, j) :\n",
    "    if i == j :\n",
    "        return head\n",
    "        \n",
    "    currentNode = head\n",
    "    prev = None\n",
    "    \n",
    "    firstNode = None \n",
    "    secondNode = None\n",
    "    firstNodePrev = None\n",
    "    secondNodePrev = None\n",
    "\n",
    "    pos = 0\n",
    "\n",
    "    while currentNode is not None :\n",
    "        if pos == i :\n",
    "            firstNodePrev = prev\n",
    "            firstNode = currentNode\n",
    "        elif pos == j:\n",
    "            secondNodePrev = prev\n",
    "            secondNode = currentNode\n",
    "\n",
    "        prev = currentNode\n",
    "        currentNode = currentNode.next\n",
    "        pos += 1\n",
    "\n",
    "\n",
    "    if firstNodePrev is not None :\n",
    "        firstNodePrev.next = secondNode\n",
    "    else :\n",
    "        head = secondNode\n",
    "\n",
    "    if secondNodePrev is not None :\n",
    "        secondNodePrev.next = firstNode\n",
    "    else :\n",
    "        head = firstNode\n",
    "\n",
    "    currentfirstNode = secondNode.next\n",
    "    secondNode.next = firstNode.next\n",
    "    firstNode.next = currentfirstNode\n",
    "    \n",
    "\n",
    "    return head"
   ]
  },
  {
   "cell_type": "markdown",
   "metadata": {},
   "source": [
    "# kReverse\n",
    "\n",
    "Given a singly linked list of integers, reverse the nodes of the linked list 'k' at a time and return its modified list.\n",
    " 'k' is a positive integer and is less than or equal to the length of the linked list. If the number of nodes is not a multiple of 'k,' then left-out nodes, in the end, should be reversed as well."
   ]
  },
  {
   "cell_type": "code",
   "execution_count": 9,
   "metadata": {},
   "outputs": [],
   "source": [
    "\n",
    "def kReverse(head, k) :\n",
    "    if k == 0 or k == 1 :\n",
    "        return head\n",
    "\n",
    "    current = head\n",
    "    fwd = None\n",
    "    prev = None\n",
    "\n",
    "    count = 0\n",
    "\n",
    "    #Reverse first k nodes of linked list \n",
    "    while (count < k) and (current is not None) :\n",
    "        \n",
    "        fwd = current.next\n",
    "        current.next = prev\n",
    "        prev = current\n",
    "        current = fwd\n",
    "        count += 1\n",
    "\n",
    "\n",
    "    if fwd is not None :\n",
    "        head.next = kReverse(fwd, k)\n",
    "    \n",
    "    return prev"
   ]
  },
  {
   "cell_type": "markdown",
   "metadata": {},
   "source": [
    "# Bubble Sort (Iterative) LinkedList\n",
    "\n",
    "Given a singly linked list of integers, sort it using 'Bubble Sort.'"
   ]
  },
  {
   "cell_type": "code",
   "execution_count": 10,
   "metadata": {},
   "outputs": [],
   "source": [
    "\n",
    "def bubbleSort(head) :\n",
    "    swap = 0\n",
    "    if head != None:\n",
    "        while(1):\n",
    "            swap = 0\n",
    "            tmp = head\n",
    "            while(tmp.next != None):\n",
    "                if tmp.data > tmp.next.data:\n",
    "                    swap += 1\n",
    "                    p = tmp.data\n",
    "                    tmp.data = tmp.next.data\n",
    "                    tmp.next.data = p\n",
    "                    tmp = tmp.next\n",
    "                else:\n",
    "                    tmp = tmp.next\n",
    "            if swap == 0:\n",
    "                break\n",
    "            else:\n",
    "                continue\n",
    "        return head\n",
    "    else:\n",
    "        return head"
   ]
  },
  {
   "cell_type": "code",
   "execution_count": null,
   "metadata": {},
   "outputs": [],
   "source": []
  }
 ],
 "metadata": {
  "kernelspec": {
   "display_name": "Python 3",
   "language": "python",
   "name": "python3"
  },
  "language_info": {
   "codemirror_mode": {
    "name": "ipython",
    "version": 3
   },
   "file_extension": ".py",
   "mimetype": "text/x-python",
   "name": "python",
   "nbconvert_exporter": "python",
   "pygments_lexer": "ipython3",
   "version": "3.8.3"
  }
 },
 "nbformat": 4,
 "nbformat_minor": 4
}
