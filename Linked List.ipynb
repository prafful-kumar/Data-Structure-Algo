{
 "cells": [
  {
   "cell_type": "markdown",
   "metadata": {},
   "source": [
    "- Head of the linked list is essential to access all the elements.\n",
    "- Each element of the linked list is of the type node.\n",
    "- Each node has the data and reference to the next node."
   ]
  },
  {
   "cell_type": "code",
   "execution_count": 7,
   "metadata": {},
   "outputs": [
    {
     "name": "stdout",
     "output_type": "stream",
     "text": [
      "a.data = 13\n",
      "a.next = <__main__.Node object at 0x00000235562E8D60>\n",
      "a.next.data = 15\n",
      "b.data = 15\n",
      "b.next = None\n",
      "<__main__.Node object at 0x00000235562E8820>\n",
      "<__main__.Node object at 0x00000235562E8D60>\n"
     ]
    }
   ],
   "source": [
    "class Node:\n",
    "    \n",
    "    def __init__(self,data):\n",
    "        self.data = data\n",
    "        self.next = None\n",
    "        \n",
    "        \n",
    "a = Node(13)\n",
    "b = Node(15)\n",
    "a.next = b\n",
    "print(\"a.data =\",a.data)\n",
    "print(\"a.next =\",a.next)\n",
    "print(\"a.next.data =\",a.next.data)\n",
    "print(\"b.data =\",b.data)\n",
    "print(\"b.next =\",b.next)\n",
    "print(a)\n",
    "print(b)\n",
    "# print(\"b.next.data\",b.next.data)  --> AttributeError: 'NoneType' object has no attribute 'data'"
   ]
  },
  {
   "cell_type": "markdown",
   "metadata": {},
   "source": [
    "Predict the output "
   ]
  },
  {
   "cell_type": "code",
   "execution_count": 5,
   "metadata": {},
   "outputs": [
    {
     "name": "stdout",
     "output_type": "stream",
     "text": [
      "20 10 "
     ]
    }
   ],
   "source": [
    "class Node:\n",
    "    def __init__(self, data):\n",
    "        self.data = data\n",
    "        self.next = None\n",
    "\n",
    "\n",
    "\n",
    "\n",
    "node1 = Node(10)\n",
    "node2 = Node(20)\n",
    "node2.next = node1\n",
    "printLL(node2)"
   ]
  },
  {
   "cell_type": "code",
   "execution_count": 12,
   "metadata": {},
   "outputs": [
    {
     "name": "stdout",
     "output_type": "stream",
     "text": [
      "20 30 40 "
     ]
    }
   ],
   "source": [
    "class Node:\n",
    "    def __init__(self, data):\n",
    "        self.data = data\n",
    "        self.next = None\n",
    "def printLL(head):\n",
    "    while head is not None:\n",
    "        print(head.data,end=\" \")\n",
    "        head = head.next\n",
    "\n",
    "\n",
    "\n",
    "node1 = Node(10)\n",
    "node2 = Node(20)\n",
    "node3 = Node(30)\n",
    "node4 = Node(40)\n",
    "node1.next = node2\n",
    "node2.next = node3\n",
    "node3.next = node4\n",
    "printLL(node2)"
   ]
  },
  {
   "cell_type": "markdown",
   "metadata": {},
   "source": [
    "# LinkedList Input"
   ]
  },
  {
   "cell_type": "code",
   "execution_count": 7,
   "metadata": {},
   "outputs": [],
   "source": [
    "class Node:\n",
    "    def __init__(self,data):\n",
    "        self.data = data\n",
    "        self.next = None\n",
    "        \n",
    "def NotOpt_TakeInput():\n",
    "    InputList = [int(i) for i in input().split()]\n",
    "    head = None\n",
    "    for currdata in InputList:\n",
    "        if currdata == -1:\n",
    "            break\n",
    "        \n",
    "        newnode = Node(currdata) # this line is creating new nodes without connection (seperate nodes)\n",
    "        if head == None:\n",
    "            head = newnode\n",
    "        else:\n",
    "            curr = head\n",
    "            while curr.next != None:\n",
    "                curr = curr.next # updating the address(replacing current addr with next addr)\n",
    "            curr.next = newnode # we are storing the address of the new node in the current next\n",
    "                \n",
    "         \n",
    "    return head\n",
    "\n",
    "def printLL(head):\n",
    "    \n",
    "    while head is not None:\n",
    "        print(str(head.data) + \"->\",end=\"\")\n",
    "        head = head.next\n",
    "    print(\"None\")\n",
    "    return"
   ]
  },
  {
   "cell_type": "markdown",
   "metadata": {},
   "source": [
    "Print Linked list"
   ]
  },
  {
   "cell_type": "code",
   "execution_count": 21,
   "metadata": {},
   "outputs": [
    {
     "name": "stdout",
     "output_type": "stream",
     "text": [
      "1 2 3 -1\n",
      "1->2->3->None\n",
      "1->2->3->None\n"
     ]
    }
   ],
   "source": [
    "head = NotOpt_TakeInput()\n",
    "printLL(head)\n",
    "printLL(head)\n"
   ]
  },
  {
   "cell_type": "markdown",
   "metadata": {},
   "source": [
    "O(n^2) is the time complexity of this solution. It is not the opitmal solution. for nth element we have to traverse n-1 elements. \n",
    "like 0+1+2+3...(n-1) operation"
   ]
  },
  {
   "cell_type": "markdown",
   "metadata": {},
   "source": [
    "# Optimal Solution for taking input "
   ]
  },
  {
   "cell_type": "code",
   "execution_count": 13,
   "metadata": {},
   "outputs": [
    {
     "name": "stdout",
     "output_type": "stream",
     "text": [
      "1 2 3 -1\n",
      "1 2 3 "
     ]
    }
   ],
   "source": [
    "class Node:\n",
    "    def __init__(self,data):\n",
    "        self.data = data\n",
    "        self.next = None\n",
    "        \n",
    "def Opt_TakeInput():\n",
    "    InputList = [int(i) for i in input().split()]\n",
    "    head = None\n",
    "    tail = None\n",
    "    for currdata in InputList:\n",
    "        if currdata == -1:\n",
    "            break\n",
    "        \n",
    "        newnode = Node(currdata) # this line is creating new nodes without connection (seperate nodes)\n",
    "        if head == None:\n",
    "            head = newnode\n",
    "            tail = head\n",
    "        else:\n",
    "            tail.next = newnode\n",
    "            tail = newnode\n",
    "            \n",
    "         \n",
    "    return head\n",
    "\n",
    "\n",
    "head = Opt_TakeInput()\n",
    "printLL(head)"
   ]
  },
  {
   "cell_type": "markdown",
   "metadata": {},
   "source": [
    "O(n) is the time complexity of the optimal solution. We store tail so that we dont have to traverse again and again for the last element."
   ]
  },
  {
   "cell_type": "markdown",
   "metadata": {},
   "source": [
    "What will be the output"
   ]
  },
  {
   "cell_type": "code",
   "execution_count": 15,
   "metadata": {},
   "outputs": [
    {
     "name": "stdout",
     "output_type": "stream",
     "text": [
      "11 21 "
     ]
    }
   ],
   "source": [
    "class Node:\n",
    "    def __init__(self, data):\n",
    "        self.data = data\n",
    "        self.next = None\n",
    "\n",
    "def printLL(head):\n",
    "    while head is not None:\n",
    "        print(head.data,end=\" \")\n",
    "        head = head.next\n",
    "\n",
    "def increment(head):\n",
    "    temp = head\n",
    "    while temp is not None:\n",
    "        temp.data +=1\n",
    "        temp = temp.next\n",
    "\n",
    "\n",
    "\n",
    "node1 = Node(10)\n",
    "node2 = Node(20)\n",
    "node1.next = node2\n",
    "increment(node1)\n",
    "printLL(node1)"
   ]
  },
  {
   "cell_type": "markdown",
   "metadata": {},
   "source": [
    "Length of LL\n",
    "\n",
    "- For a given singly linked list of integers, find and return its length. Do it using an iterative method.\n",
    "\n",
    "Sample Input 1 :\n",
    "1\n",
    "3 4 5 2 6 1 9 -1\n",
    "Sample Output 1 :\n",
    "7\n",
    "Sample Input 2 :\n",
    "2\n",
    "10 76 39 -3 2 9 -23 9 -1\n",
    "-1\n",
    "Sample Output 2 :\n",
    "8\n",
    "0"
   ]
  },
  {
   "cell_type": "code",
   "execution_count": 25,
   "metadata": {},
   "outputs": [
    {
     "ename": "ValueError",
     "evalue": "invalid literal for int() with base 10: ''",
     "output_type": "error",
     "traceback": [
      "\u001b[1;31m---------------------------------------------------------------------------\u001b[0m",
      "\u001b[1;31mValueError\u001b[0m                                Traceback (most recent call last)",
      "\u001b[1;32m<ipython-input-25-df745ee5ceec>\u001b[0m in \u001b[0;36m<module>\u001b[1;34m\u001b[0m\n\u001b[0;32m     72\u001b[0m \u001b[1;33m\u001b[0m\u001b[0m\n\u001b[0;32m     73\u001b[0m \u001b[1;31m#main\u001b[0m\u001b[1;33m\u001b[0m\u001b[1;33m\u001b[0m\u001b[1;33m\u001b[0m\u001b[0m\n\u001b[1;32m---> 74\u001b[1;33m \u001b[0mt\u001b[0m \u001b[1;33m=\u001b[0m \u001b[0mint\u001b[0m\u001b[1;33m(\u001b[0m\u001b[0mstdin\u001b[0m\u001b[1;33m.\u001b[0m\u001b[0mreadline\u001b[0m\u001b[1;33m(\u001b[0m\u001b[1;33m)\u001b[0m\u001b[1;33m.\u001b[0m\u001b[0mrstrip\u001b[0m\u001b[1;33m(\u001b[0m\u001b[1;33m)\u001b[0m\u001b[1;33m)\u001b[0m\u001b[1;33m\u001b[0m\u001b[1;33m\u001b[0m\u001b[0m\n\u001b[0m\u001b[0;32m     75\u001b[0m \u001b[1;33m\u001b[0m\u001b[0m\n\u001b[0;32m     76\u001b[0m \u001b[1;32mwhile\u001b[0m \u001b[0mt\u001b[0m \u001b[1;33m>\u001b[0m \u001b[1;36m0\u001b[0m \u001b[1;33m:\u001b[0m\u001b[1;33m\u001b[0m\u001b[1;33m\u001b[0m\u001b[0m\n",
      "\u001b[1;31mValueError\u001b[0m: invalid literal for int() with base 10: ''"
     ]
    }
   ],
   "source": [
    "\n",
    "from sys import stdin\n",
    "\n",
    "#Following is the Node class already written for the Linked List\n",
    "class Node :\n",
    "    def __init__(self, data) :\n",
    "        self.data = data\n",
    "        self.next = None\n",
    "\n",
    "\n",
    "\n",
    "\n",
    "\n",
    "\n",
    "def length(head) :\n",
    "    #Your code goes here\n",
    "    c = 0\n",
    "    if head == None:\n",
    "        return 0\n",
    "    \n",
    "    tail = head\n",
    "    \n",
    "    while tail != None:\n",
    "        c = c+1\n",
    "        tail = tail.next\n",
    "    return c\n",
    "\n",
    "\n",
    "\n",
    "\n",
    "\n",
    "        \n",
    "\n",
    "\n",
    "\n",
    "\n",
    "#Taking Input Using Fast I/O\n",
    "def takeInput() :\n",
    "    head = None\n",
    "    tail = None\n",
    "\n",
    "    datas = list(map(int, stdin.readline().rstrip().split(\" \")))\n",
    "\n",
    "    i = 0\n",
    "    while (i < len(datas)) and (datas[i] != -1) :\n",
    "        data = datas[i]\n",
    "        newNode = Node(data)\n",
    "\n",
    "        if head is None :\n",
    "            head = newNode\n",
    "            tail = newNode\n",
    "\n",
    "        else :\n",
    "            tail.next = newNode\n",
    "            tail = newNode\n",
    "\n",
    "        i += 1\n",
    "\n",
    "    return head\n",
    "\n",
    "\n",
    "\n",
    "#to print the linked list \n",
    "def printLinkedList(head) :\n",
    "\n",
    "    while head is not None :\n",
    "        print(head.data, end = \" \")\n",
    "        head = head.next\n",
    "\n",
    "    print()\n",
    "\n",
    "\n",
    "\n",
    "#main\n",
    "t = int(stdin.readline().rstrip())\n",
    "\n",
    "while t > 0 :\n",
    "\n",
    "    head = takeInput()\n",
    "    print(length(head))\n",
    "\n",
    "    t -= 1"
   ]
  },
  {
   "cell_type": "markdown",
   "metadata": {},
   "source": [
    "Print ith node\n",
    "\n",
    "- For a given a singly linked list of integers and a position 'i', print the node data at the 'i-th' position.\n",
    "\n",
    "Sample Input 1 :\n",
    "1\n",
    "3 4 5 2 6 1 9 -1\n",
    "3\n",
    "Sample Output 1 :\n",
    "2\n",
    "Sample Input 2 :\n",
    "2\n",
    "3 4 5 2 6 1 9 -1\n",
    "0\n",
    "9 8 4 0 7 8 -1\n",
    "3\n",
    "Sample Output 2 :\n",
    "3\n",
    "0"
   ]
  },
  {
   "cell_type": "code",
   "execution_count": 26,
   "metadata": {},
   "outputs": [],
   "source": [
    "class Node :\n",
    "    def __init__(self, data) :\n",
    "        self.data = data\n",
    "        self.next = None\n",
    "\n",
    "\n",
    "\n",
    "\n",
    "def printIthNode(head, i):\n",
    "    #Your code goes here\n",
    "    if head == None:\n",
    "        return\n",
    "    c =0\n",
    "    tail = head\n",
    "  \n",
    "    while tail != None:\n",
    "        if c ==i:\n",
    "            print(tail.data)\n",
    "            break\n",
    "        c = c +1\n",
    "        tail = tail.next \n",
    "    \n",
    "    \n"
   ]
  },
  {
   "cell_type": "markdown",
   "metadata": {},
   "source": [
    "Insert element at the ith position in linked list. And return the head of new linked list.\n",
    "- we will maintain previous and current pointer, so that we can insert in the ith position.\n",
    "- previous.next becomes ith and ith.next becomes current.\n",
    "- don't move current first, move previous first to current and then current to current.next"
   ]
  },
  {
   "cell_type": "code",
   "execution_count": 19,
   "metadata": {},
   "outputs": [
    {
     "name": "stdout",
     "output_type": "stream",
     "text": [
      "1 2 3 -1\n",
      "1 2 3 \n",
      "\n",
      "1 2 6 3 \n",
      "\n",
      "9 1 2 6 3 \n",
      "\n"
     ]
    }
   ],
   "source": [
    "class Node:\n",
    "    def __init__(self,data):\n",
    "        self.data = data\n",
    "        self.next = None\n",
    "        \n",
    "def length(head):\n",
    "    count = 0\n",
    "    while head is not None:\n",
    "        count = count+1\n",
    "        head = head.next\n",
    "    return count\n",
    "    \n",
    "def Insert(head,i,data):\n",
    "    if i<0 or i>length(head):\n",
    "        return head\n",
    "    \n",
    "    count = 0\n",
    "    prev = None\n",
    "    curr = head\n",
    "    while count<i:\n",
    "        prev = curr\n",
    "        curr = curr.next\n",
    "        \n",
    "        count += 1\n",
    "         \n",
    "    newnode = Node(data)\n",
    "    if prev is not None:\n",
    "        prev.next = newnode\n",
    "    else:\n",
    "        head = newnode\n",
    "        \n",
    "    newnode.next = curr\n",
    "    \n",
    "    return head\n",
    " \n",
    "def printLL(head):\n",
    "    while head is not None:\n",
    "        print(head.data,end=\" \")\n",
    "        head = head.next\n",
    "    print(\"\\n\")\n",
    "head = Opt_TakeInput()\n",
    "printLL(head)\n",
    "head = Insert(head,2,6)\n",
    "printLL(head)\n",
    "head = Insert(head,0,9)\n",
    "printLL(head)"
   ]
  },
  {
   "cell_type": "markdown",
   "metadata": {},
   "source": [
    "Delete node\n",
    "\n",
    "- You have been given a linked list of integers. Your task is to write a function that deletes a node from a given position, 'POS'."
   ]
  },
  {
   "cell_type": "code",
   "execution_count": 20,
   "metadata": {},
   "outputs": [],
   "source": [
    "class Node :\n",
    "    def __init__(self, data) :\n",
    "        self.data = data\n",
    "        self.next = None\n",
    "\n",
    "def length(head):\n",
    "    count = 0\n",
    "    while head is not None:\n",
    "        count = count+1\n",
    "        head = head.next\n",
    "    return count\n",
    "    \n",
    "def deleteNode(head, pos) :\n",
    "    # Write your code here.\n",
    "    if pos<0 or pos>length(head)-1:\n",
    "        return head\n",
    "    prev = None\n",
    "    curr = head\n",
    "    count = 0\n",
    "\n",
    "    \n",
    "    while count<pos:\n",
    "        prev = curr\n",
    "        curr = curr.next\n",
    "        count+= 1\n",
    "\n",
    "    if count == pos:\n",
    "        if prev== None:\n",
    "        \thead = head.next\n",
    "        else:\n",
    "            prev.next = curr.next    \n",
    "    \n",
    "        \n",
    "    return head"
   ]
  },
  {
   "cell_type": "markdown",
   "metadata": {},
   "source": [
    "Insert at ith position recursively\n",
    "- O(i) is the time complexity. O(n) was the time complexity iteratively. "
   ]
  },
  {
   "cell_type": "code",
   "execution_count": 22,
   "metadata": {},
   "outputs": [
    {
     "name": "stdout",
     "output_type": "stream",
     "text": [
      "1 2 3 -1\n",
      "1 2 3 \n",
      "\n",
      "1 2 6 3 \n",
      "\n",
      "9 1 2 6 3 \n",
      "\n"
     ]
    }
   ],
   "source": [
    "def Insert_recur(head,i,data):\n",
    "    if i<0:\n",
    "        return head\n",
    "    if i== 0:\n",
    "        newnode = Node(data)\n",
    "        newnode.next = head\n",
    "        return newnode\n",
    "    if head is None:\n",
    "        return None\n",
    "    smallhead = Insert_recur(head.next,i-1,data)\n",
    "    head.next = smallhead\n",
    "    return head\n",
    "\n",
    "head = Opt_TakeInput()\n",
    "printLL(head)\n",
    "head = Insert_recur(head,2,6)\n",
    "printLL(head)\n",
    "head = Insert_recur(head,0,9)\n",
    "printLL(head)"
   ]
  },
  {
   "cell_type": "markdown",
   "metadata": {},
   "source": [
    "Length of linkedlist Recursively"
   ]
  },
  {
   "cell_type": "code",
   "execution_count": 23,
   "metadata": {},
   "outputs": [],
   "source": [
    "\n",
    "def lengthRecursive(head):\n",
    "    # A linked list, find and return the length of input LL recursively.\n",
    "    # Write your code here\n",
    "    if head == None:\n",
    "        return 0\n",
    "    small = 1+ lengthRecursive(head.next)\n",
    "    return small"
   ]
  },
  {
   "cell_type": "markdown",
   "metadata": {},
   "source": [
    "Delete node Recursively"
   ]
  },
  {
   "cell_type": "code",
   "execution_count": 24,
   "metadata": {},
   "outputs": [],
   "source": [
    "def deleteNodeRec(head, pos) :\n",
    "\t#Your code goes here\n",
    "    if pos == 0:\n",
    "        if head == None: # for 0th position we can't return head.next, we have to return None for first position\n",
    "        \treturn None\n",
    "        return head.next\n",
    "    if head == None: # pos is greater than length of the LL\n",
    "        return None\n",
    "    smallhead = deleteNodeRec(head.next,pos-1)\n",
    "    head.next = smallhead\n",
    "    \n",
    "    return head\n"
   ]
  },
  {
   "cell_type": "markdown",
   "metadata": {},
   "source": [
    "What will be the time complexity of searching an element in the linked list ?\n",
    "- O(n)\n",
    "\n",
    "Consider the Singly linked list having n elements. What will be the time taken to add an node at the end of linked list if is initially pointing to first node of the list.\n",
    "That is only head is given to you.\n",
    "- O(n)\n",
    "\n",
    "There is reference (or pointer) to first Node of the Linked List, then time required to insert element to second position is __________.\n",
    "Indexing starts from 0.\n",
    "- O(1)\n",
    "\n",
    "Given an unsorted singly Linked List, suppose you have reference (or pointer) to its head node only, which of the following operation can be implemented in O(1) time?\n",
    "i)   Insertion at the front of the linked list\n",
    "ii)  Insertion at the end of the linked list\n",
    "iii) Deletion of the last node of the linked list\n",
    "iv)  Deletion of the front node of the linked list\n",
    "\n",
    "- I and IV\n",
    "\n",
    "Given an unsorted singly Linked List, suppose you have references (or pointer) to its head and tail nodes, which of the following operation can be implemented in O(1) time?\n",
    "i)   Insertion at the front of the linked list\n",
    "ii)  Insertion at the end of the linked list\n",
    "iii) Deletion of the last node of the linked list\n",
    "iv)  Deletion of the front node of the linked list\n",
    "\n",
    "- I, II, and IV"
   ]
  },
  {
   "cell_type": "markdown",
   "metadata": {},
   "source": [
    "# Find a Node in Linked List\n",
    "\n",
    "You have been given a singly linked list of integers. Write a function that returns the index/position of integer data denoted by 'N' (if it exists). Return -1 otherwise."
   ]
  },
  {
   "cell_type": "code",
   "execution_count": 1,
   "metadata": {},
   "outputs": [],
   "source": [
    "class Node :\n",
    "    def __init__(self, data) :\n",
    "        self.data = data\n",
    "        self.next = None\n",
    "\n",
    "        \n",
    "def length(head):\n",
    "    count = 0\n",
    "    while head is not None:\n",
    "        count = count+1\n",
    "        head = head.next\n",
    "    return count\n",
    "\n",
    "def findNode(head, n) :\n",
    "    # Write your code here.\n",
    "    curr = head\n",
    "    count = 0\n",
    "    while curr != None:\n",
    "        if curr.data == n:\n",
    "        \treturn count\n",
    "        curr = curr.next\n",
    "        count+= 1\n",
    "    if count == length(head):\n",
    "        return -1"
   ]
  },
  {
   "cell_type": "markdown",
   "metadata": {},
   "source": [
    "# AppendLastNToFirst\n",
    "\n",
    "You have been given a singly linked list of integers along with an integer 'N'. Write a function to append the last 'N' nodes towards the front of the singly linked list and returns the new head to the list."
   ]
  },
  {
   "cell_type": "code",
   "execution_count": 2,
   "metadata": {},
   "outputs": [],
   "source": [
    "class Node :\n",
    "    def __init__(self, data) :\n",
    "        self.data = data\n",
    "        self.next = None\n",
    "\n",
    "        \n",
    "def length(head):\n",
    "    count = 0\n",
    "    while head is not None:\n",
    "        count = count+1\n",
    "        head = head.next\n",
    "    return count\n",
    "\n",
    "def appendLastNToFirst(head, n) :\n",
    "    #Your code goes here\n",
    "    if head == None:\n",
    "        return\n",
    "    if n ==0:\n",
    "        return head\n",
    "    count = 0\n",
    "    curr = head\n",
    "    length_LL = length(head)\n",
    "    no_ele_to_move = length_LL -n\n",
    "    \n",
    "    while count<length_LL:\n",
    "       \n",
    "        if count == no_ele_to_move -1:\n",
    "            new_tail = curr\n",
    "        if count ==no_ele_to_move:\n",
    "            new_head = curr\n",
    "        if count==length_LL-1:\n",
    "            # curr.next = head\n",
    "            tail = curr\n",
    "        curr =curr.next\n",
    "        count+=1    \n",
    "    \n",
    "    \n",
    "    tail.next = head\n",
    "    new_tail.next = None\n",
    "    return new_head\n",
    "            \n"
   ]
  },
  {
   "cell_type": "markdown",
   "metadata": {},
   "source": [
    "# Eliminate duplicates from LL\n",
    "\n",
    "You have been given a singly linked list of integers where the elements are sorted in ascending order. Write a function that removes the consecutive duplicate values such that the given list only contains unique elements and returns the head to the updated list."
   ]
  },
  {
   "cell_type": "code",
   "execution_count": 3,
   "metadata": {},
   "outputs": [],
   "source": [
    "\n",
    "def removeDuplicates(head) :\n",
    "    #Your code goes here\n",
    "    if head == None:\n",
    "        return\n",
    "    curr= head\n",
    "    t1 = head\n",
    "    t2 = head.next\n",
    "   \n",
    "    while t2!=None:\n",
    "        if t1.data == t2.data:\n",
    "            if t2.next !=None:\n",
    "            \tt2 = t2.next\n",
    "            else:\n",
    "                t1.next = None\n",
    "                return head\n",
    "                #t2.next = None\n",
    "        else:\n",
    "            t1.next = t2\n",
    "            t1 = t2\n",
    "            t2 = t2.next\n",
    "            \n",
    "    return head\n",
    "        "
   ]
  },
  {
   "cell_type": "markdown",
   "metadata": {},
   "source": [
    "# Print Reverse LinkedList\n",
    "\n",
    "You have been given a singly linked list of integers. Write a function to print the list in a reverse order.\n",
    "To explain it further, you need to start printing the data from the tail and move towards the head of the list, printing the head data at the end."
   ]
  },
  {
   "cell_type": "code",
   "execution_count": 4,
   "metadata": {},
   "outputs": [],
   "source": [
    "\n",
    "\n",
    "def printReverse(head) :\n",
    "    #Your code goes here\n",
    "    if head ==None:\n",
    "        return\n",
    "    small = printReverse(head.next)\n",
    "    print(head.data,end=\" \")\n",
    "    return\n",
    "        "
   ]
  },
  {
   "cell_type": "markdown",
   "metadata": {},
   "source": [
    "# Palindrome LinkedList\n",
    "\n",
    "You have been given a head to a singly linked list of integers. Write a function check to whether the list given is a 'Palindrome' or not."
   ]
  },
  {
   "cell_type": "code",
   "execution_count": null,
   "metadata": {},
   "outputs": [],
   "source": [
    "\n",
    "def reverseLinkedList(head) :\n",
    "    curr = head\n",
    "    prev = None\n",
    "    fwd = None\n",
    "\n",
    "    while curr is not None :\n",
    "        fwd = curr.next\n",
    "        curr.next = prev\n",
    "        prev = curr\n",
    "        curr = fwd\n",
    "\n",
    "    return prev\n",
    "\n",
    "\n",
    "def isPalindrome(head) :\n",
    "    if head is None or head.next is None :\n",
    "        return True\n",
    "\n",
    "    #find list center\n",
    "    fast = head\n",
    "    slow = head\n",
    "\n",
    "    while fast.next is not  None and fast.next.next is not None :\n",
    "        fast = fast.next.next\n",
    "        slow = slow.next\n",
    "\n",
    "    secondHead = slow.next\n",
    "    slow.next = None\n",
    "    secondHead = reverseLinkedList(secondHead)\n",
    "\n",
    "    #compare two sublists now\n",
    "    firstSubList = secondHead\n",
    "    secondSubList = head\n",
    "\n",
    "    while firstSubList is not None :\n",
    "        if firstSubList.data != secondSubList.data :\n",
    "            return False\n",
    "        \n",
    "        firstSubList = firstSubList.next\n",
    "        secondSubList = secondSubList.next\n",
    "\n",
    "    #Rejoin the two sublists to restore the input list to its original form\n",
    "    firstSubList = head\n",
    "    secondSubList = reverseLinkedList(secondHead)\n",
    "\n",
    "    while firstSubList.next is not None :\n",
    "        firstSubList = firstSubList.next\n",
    "\n",
    "    firstSubList.next = secondSubList\n",
    "\n",
    "    return True\n",
    "\n"
   ]
  }
 ],
 "metadata": {
  "kernelspec": {
   "display_name": "Python 3",
   "language": "python",
   "name": "python3"
  },
  "language_info": {
   "codemirror_mode": {
    "name": "ipython",
    "version": 3
   },
   "file_extension": ".py",
   "mimetype": "text/x-python",
   "name": "python",
   "nbconvert_exporter": "python",
   "pygments_lexer": "ipython3",
   "version": "3.8.3"
  }
 },
 "nbformat": 4,
 "nbformat_minor": 4
}
