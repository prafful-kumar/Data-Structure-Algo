{
 "cells": [
  {
   "cell_type": "markdown",
   "metadata": {},
   "source": [
    "# Stack Using Array"
   ]
  },
  {
   "cell_type": "code",
   "execution_count": 4,
   "metadata": {},
   "outputs": [
    {
     "name": "stdout",
     "output_type": "stream",
     "text": [
      "87\n",
      "56\n",
      "12\n",
      "156\n"
     ]
    }
   ],
   "source": [
    "\n",
    "\n",
    "class Stack:\n",
    "    def __init__(self):\n",
    "        self.__data = []\n",
    "        \n",
    "    def push(self,item):\n",
    "        self.__data.append(item)\n",
    "        \n",
    "    def pop(self):\n",
    "        if self.isEmpty():\n",
    "            print (\" Hey! Stack is empty\")\n",
    "            return\n",
    "        return self.__data.pop()\n",
    "    def top(self):\n",
    "        if self.isEmpty():\n",
    "            print (\" Hey! Stack is empty\")\n",
    "            return\n",
    "        return self.__data[len(self.__data) - 1]\n",
    "        \n",
    "    def size(self):\n",
    "        return len(self.__data)\n",
    "    \n",
    "    def isEmpty(self):\n",
    "        return self.size() == 0\n",
    "\n",
    "s = Stack()\n",
    "s.push(156)\n",
    "s.push(12)\n",
    "s.push(56)\n",
    "s.push(87)\n",
    "\n",
    "while s.isEmpty() is False:\n",
    "    print(s.pop())"
   ]
  },
  {
   "cell_type": "markdown",
   "metadata": {},
   "source": [
    "# Stack Using Linked List\n",
    "\n",
    "Implement a Stack Data Structure specifically to store integer data using a Singly Linked List.\n",
    "The data members should be private.\n",
    "You need to implement the following public functions :\n",
    "1. Constructor:\n",
    "It initialises the data members as required.\n",
    "2. push(data) :\n",
    "This function should take one argument of type integer. It pushes the element into the stack and returns nothing.\n",
    "3. pop() :\n",
    "It pops the element from the top of the stack and in turn, returns the element being popped or deleted. In case the stack is empty, it returns -1.\n",
    "4. top :\n",
    "It returns the element being kept at the top of the stack. In case the stack is empty, it returns -1.\n",
    "5. size() :\n",
    "It returns the size of the stack at any given instance of time.\n",
    "6. isEmpty() :\n",
    "It returns a boolean value indicating whether the stack is empty or not."
   ]
  },
  {
   "cell_type": "code",
   "execution_count": null,
   "metadata": {},
   "outputs": [],
   "source": [
    "class Node :\n",
    "\n",
    "    def __init__(self, data) :\n",
    "        self.data = data\n",
    "        self.next = None\n",
    "\n",
    "\n",
    "class Stack :\n",
    "\n",
    "    #Define data members and __init__()\n",
    "    def __init__(self):\n",
    "        \n",
    "        self.__head = None\n",
    "        self.__count = 0\n",
    "        \n",
    "\n",
    "\n",
    "\n",
    "\n",
    "    '''----------------- Public Functions of Stack -----------------'''\n",
    "\n",
    "\n",
    "    def getSize(self) :\n",
    "        #Implement the getSize() function\n",
    "        return self.__count\n",
    "\n",
    "\n",
    "\n",
    "    def isEmpty(self) :\n",
    "        #Implement the isEmpty() function\n",
    "        return self.__count == 0\n",
    "\n",
    "\n",
    "\n",
    "    def push(self, data) :\n",
    "        #Implement the push(element) function\n",
    "        newnode = Node(data)\n",
    "        newnode.next = self.__head\n",
    "        self.__head = newnode\n",
    "        self.__count = self.__count+1\n",
    "\n",
    "\n",
    "    def pop(self) :\n",
    "        #Implement the pop() function\n",
    "        if self.isEmpty():\n",
    "            return -1\n",
    "        temp = self.__head.data\n",
    "        self.__head = self.__head.next\n",
    "        self.__count = self.__count -1 \n",
    "        return temp\n",
    "\n",
    "\n",
    "\n",
    "    def top(self) :\n",
    "        #Implement the top() function\n",
    "        if self.isEmpty():\n",
    "            return -1\n",
    "        return self.__head.data\n",
    "        \n",
    "\n"
   ]
  },
  {
   "cell_type": "markdown",
   "metadata": {},
   "source": [
    "INBUILT STACKS AND QUEUES"
   ]
  },
  {
   "cell_type": "code",
   "execution_count": 7,
   "metadata": {},
   "outputs": [
    {
     "name": "stdout",
     "output_type": "stream",
     "text": [
      "1\n",
      "2\n",
      "3\n"
     ]
    }
   ],
   "source": [
    "import queue\n",
    "\n",
    "q = queue.Queue()\n",
    "q.put(1)\n",
    "q.put(2)\n",
    "q.put(3)\n",
    "while not q.empty():\n",
    "    print(q.get())"
   ]
  },
  {
   "cell_type": "code",
   "execution_count": 8,
   "metadata": {},
   "outputs": [
    {
     "name": "stdout",
     "output_type": "stream",
     "text": [
      "3\n",
      "2\n",
      "1\n"
     ]
    }
   ],
   "source": [
    "# Lifo queue is also known as stacks\n",
    "q = queue.LifoQueue()\n",
    "q.put(1)\n",
    "q.put(2)\n",
    "q.put(3)\n",
    "while not q.empty():\n",
    "    print(q.get())"
   ]
  },
  {
   "cell_type": "markdown",
   "metadata": {},
   "source": [
    "# Balanced Paranthesis\n",
    "For a given a string expression containing only round brackets or parentheses, check if they are balanced or not. Brackets are said to be balanced if the bracket which opens last, closes first."
   ]
  },
  {
   "cell_type": "code",
   "execution_count": 14,
   "metadata": {},
   "outputs": [],
   "source": [
    "def isBalanced(string):\n",
    "    s = []\n",
    "    for char in string:\n",
    "        if char in'({[':\n",
    "            s.append(char)\n",
    "        elif char == ')':\n",
    "            if(not s or s[-1]!='(' ):# not of s(in boolean 0 -> False) means string is empty\n",
    "                return False\n",
    "            s.pop()\n",
    "        elif char =='}':\n",
    "            if (not s or s[-1]!='{'):\n",
    "                return False\n",
    "            s.pop()\n",
    "        elif char == ']':\n",
    "            if (not s or s[-1]!='['):\n",
    "                return False\n",
    "            s.pop()\n",
    "    if(not s):\n",
    "        return True # if s is empty than return balanced string, otherwise not\n",
    "    return False\n",
    "            "
   ]
  },
  {
   "cell_type": "code",
   "execution_count": null,
   "metadata": {},
   "outputs": [],
   "source": []
  },
  {
   "cell_type": "code",
   "execution_count": 11,
   "metadata": {},
   "outputs": [
    {
     "data": {
      "text/plain": [
       "True"
      ]
     },
     "execution_count": 11,
     "metadata": {},
     "output_type": "execute_result"
    }
   ],
   "source": [
    "s = []\n",
    "not s"
   ]
  },
  {
   "cell_type": "markdown",
   "metadata": {},
   "source": [
    "# Reverse Stack\n",
    "You have been given two stacks that can store integers as the data. Out of the two given stacks, one is populated and the other one is empty. You are required to write a function that reverses the populated stack using the one which is empty"
   ]
  },
  {
   "cell_type": "code",
   "execution_count": 1,
   "metadata": {},
   "outputs": [],
   "source": [
    "def reverseStack(s1,s2):\n",
    "    if len(s1)<=1:\n",
    "        return\n",
    "    while(len(s1)!=1): # moving n-1 element\n",
    "        ele = s1.pop()\n",
    "        s2.append(ele)  \n",
    "        \n",
    "    lastElement = s1.pop() # save last element\n",
    "    while(len(s2)!=0):\n",
    "        ele = s2.pop()\n",
    "        s1.append(ele)\n",
    "        \n",
    "    reverseStack(s1,s2)\n",
    "    s1.append(lastElement)"
   ]
  },
  {
   "cell_type": "markdown",
   "metadata": {},
   "source": [
    "# Check redundant brackets\n",
    "\n",
    "For a given expression in the form of a string, find if there exist any redundant brackets or not. It is given that the expression contains only rounded brackets or parenthesis and the input expression will always be balanced.\n",
    "A pair of the bracket is said to be redundant when a sub-expression is surrounded by unnecessary or needless brackets."
   ]
  },
  {
   "cell_type": "code",
   "execution_count": null,
   "metadata": {},
   "outputs": [],
   "source": [
    "\n",
    "def checkRedundantBrackets(expression) :\n",
    "\t# Your code goes here\n",
    "    s =[]\n",
    "    i=0\n",
    "    for char in expression:\n",
    "        count = 0\n",
    "        \n",
    "        if char is ')':\n",
    "            \n",
    "            while s.pop() !='(':\n",
    "                count += 1\n",
    "        \n",
    "            if count == 0 or count == 1:\n",
    "            \treturn True\n",
    "        if char is not ')':\n",
    "            \n",
    "            s.append(char)\n",
    "        \n",
    "        \n",
    "    return False\n"
   ]
  },
  {
   "cell_type": "markdown",
   "metadata": {},
   "source": [
    "# Stock Span\n",
    "Afzal has been working with an organization called 'Money Traders' for the past few years. The organization is into the money trading business. His manager assigned him a task. For a given array/list of stock's prices for N days, find the stock's span for each day.\n",
    "The span of the stock's price today is defined as the maximum number of consecutive days(starting from today and going backwards) for which the price of the stock was less than today's price.\n",
    "For example, if the price of a stock over a period of 7 days are [100, 80, 60, 70, 60, 75, 85], then the stock spans will be [1, 1, 1, 2, 1, 4, 6]."
   ]
  },
  {
   "cell_type": "code",
   "execution_count": null,
   "metadata": {},
   "outputs": [],
   "source": [
    "\n",
    "def stockSpan(price, n):\n",
    "    if n == 0:\n",
    "        return\n",
    "    s = []\n",
    "    s.append(0)\n",
    "    span = []\n",
    "    span.append(1)\n",
    "    for i in range(1,len(price)):\n",
    "        if price[i] < price[i-1]:\n",
    "            s.append(i)\n",
    "            span.append(1)\n",
    "        else:\n",
    "            while len(s)>0 and price[i] > price[s[-1]] :\n",
    "                s.pop()\n",
    "            if len(s) <= 0:\n",
    "                span.append( i + 1)\n",
    "            else:\n",
    "                span.append(i-s[-1])       \n",
    "\n",
    "            s.append(i)\n",
    "\n",
    "    return span\n",
    "\n",
    "    \n",
    "    "
   ]
  },
  {
   "cell_type": "markdown",
   "metadata": {},
   "source": [
    "# Minimum bracket Reversal\n",
    "\n",
    "For a given expression in the form of a string, find the minimum number of brackets that can be reversed in order to make the expression balanced. The expression will only contain curly brackets.\n",
    "If the expression can't be balanced, return -1."
   ]
  },
  {
   "cell_type": "code",
   "execution_count": 2,
   "metadata": {},
   "outputs": [
    {
     "name": "stderr",
     "output_type": "stream",
     "text": [
      "<>:11: SyntaxWarning: \"is\" with a literal. Did you mean \"==\"?\n",
      "<>:11: SyntaxWarning: \"is\" with a literal. Did you mean \"==\"?\n",
      "<ipython-input-2-ef667b88c29f>:11: SyntaxWarning: \"is\" with a literal. Did you mean \"==\"?\n",
      "  if char is '{':\n"
     ]
    }
   ],
   "source": [
    "\n",
    "def countBracketReversals(s1) :\n",
    "    # Your code goes here\n",
    "    length = len(s1)\n",
    "    if length == 0:\n",
    "        return 0\n",
    "    if length % 2 != 0:\n",
    "        return -1\n",
    "    s = []\n",
    "    for i in range(length):\n",
    "        char = s1[i]\n",
    "        if char is '{':\n",
    "            s.append(char)\n",
    "        else: \n",
    "            if (not (len(s) == 0)) and (s[-1] == \"{\"):\n",
    "                s.pop()\n",
    "            else:\n",
    "                s.append(char)\n",
    "    count = 0\n",
    "    while not (len(s) == 0):\n",
    "        c1 = s.pop()\n",
    "        c2 = s.pop()\n",
    "        \n",
    "        if c1!= c2:\n",
    "            count += 2\n",
    "        else:\n",
    "            count+=1\n",
    "    return count"
   ]
  },
  {
   "cell_type": "markdown",
   "metadata": {},
   "source": [
    "Rough Work"
   ]
  },
  {
   "cell_type": "code",
   "execution_count": 1,
   "metadata": {},
   "outputs": [
    {
     "data": {
      "text/plain": [
       "[0]"
      ]
     },
     "execution_count": 1,
     "metadata": {},
     "output_type": "execute_result"
    }
   ],
   "source": [
    "s = [0]\n",
    "s"
   ]
  },
  {
   "cell_type": "code",
   "execution_count": 4,
   "metadata": {},
   "outputs": [
    {
     "data": {
      "text/plain": [
       "[0, 1]"
      ]
     },
     "execution_count": 4,
     "metadata": {},
     "output_type": "execute_result"
    }
   ],
   "source": [
    "s.append(1)\n",
    "s"
   ]
  },
  {
   "cell_type": "code",
   "execution_count": 3,
   "metadata": {},
   "outputs": [
    {
     "data": {
      "text/plain": [
       "1"
      ]
     },
     "execution_count": 3,
     "metadata": {},
     "output_type": "execute_result"
    }
   ],
   "source": [
    "s.pop()"
   ]
  },
  {
   "cell_type": "code",
   "execution_count": 7,
   "metadata": {},
   "outputs": [
    {
     "data": {
      "text/plain": [
       "2"
      ]
     },
     "execution_count": 7,
     "metadata": {},
     "output_type": "execute_result"
    }
   ],
   "source": [
    "len(s)"
   ]
  },
  {
   "cell_type": "code",
   "execution_count": 8,
   "metadata": {},
   "outputs": [],
   "source": [
    "a = []\n",
    "a.append(0)"
   ]
  },
  {
   "cell_type": "code",
   "execution_count": 9,
   "metadata": {},
   "outputs": [
    {
     "data": {
      "text/plain": [
       "[0]"
      ]
     },
     "execution_count": 9,
     "metadata": {},
     "output_type": "execute_result"
    }
   ],
   "source": [
    "a\n"
   ]
  },
  {
   "cell_type": "code",
   "execution_count": 10,
   "metadata": {},
   "outputs": [],
   "source": [
    "a.append(3)"
   ]
  },
  {
   "cell_type": "code",
   "execution_count": 11,
   "metadata": {},
   "outputs": [
    {
     "data": {
      "text/plain": [
       "[0, 3]"
      ]
     },
     "execution_count": 11,
     "metadata": {},
     "output_type": "execute_result"
    }
   ],
   "source": [
    "a"
   ]
  },
  {
   "cell_type": "code",
   "execution_count": 12,
   "metadata": {},
   "outputs": [
    {
     "data": {
      "text/plain": [
       "2"
      ]
     },
     "execution_count": 12,
     "metadata": {},
     "output_type": "execute_result"
    }
   ],
   "source": [
    "len(a)"
   ]
  },
  {
   "cell_type": "code",
   "execution_count": 13,
   "metadata": {},
   "outputs": [
    {
     "ename": "AttributeError",
     "evalue": "'list' object has no attribute 'top'",
     "output_type": "error",
     "traceback": [
      "\u001b[1;31m---------------------------------------------------------------------------\u001b[0m",
      "\u001b[1;31mAttributeError\u001b[0m                            Traceback (most recent call last)",
      "\u001b[1;32m<ipython-input-13-e04d2d9e58eb>\u001b[0m in \u001b[0;36m<module>\u001b[1;34m\u001b[0m\n\u001b[1;32m----> 1\u001b[1;33m \u001b[0ma\u001b[0m\u001b[1;33m.\u001b[0m\u001b[0mtop\u001b[0m\u001b[1;33m(\u001b[0m\u001b[1;33m)\u001b[0m\u001b[1;33m\u001b[0m\u001b[1;33m\u001b[0m\u001b[0m\n\u001b[0m",
      "\u001b[1;31mAttributeError\u001b[0m: 'list' object has no attribute 'top'"
     ]
    }
   ],
   "source": [
    "a.top()"
   ]
  },
  {
   "cell_type": "code",
   "execution_count": 16,
   "metadata": {},
   "outputs": [],
   "source": [
    "s =[0,1,4,5,8]"
   ]
  },
  {
   "cell_type": "code",
   "execution_count": 17,
   "metadata": {},
   "outputs": [
    {
     "data": {
      "text/plain": [
       "8"
      ]
     },
     "execution_count": 17,
     "metadata": {},
     "output_type": "execute_result"
    }
   ],
   "source": [
    "s[-1]"
   ]
  },
  {
   "cell_type": "code",
   "execution_count": null,
   "metadata": {},
   "outputs": [],
   "source": []
  }
 ],
 "metadata": {
  "kernelspec": {
   "display_name": "Python 3",
   "language": "python",
   "name": "python3"
  },
  "language_info": {
   "codemirror_mode": {
    "name": "ipython",
    "version": 3
   },
   "file_extension": ".py",
   "mimetype": "text/x-python",
   "name": "python",
   "nbconvert_exporter": "python",
   "pygments_lexer": "ipython3",
   "version": "3.8.3"
  }
 },
 "nbformat": 4,
 "nbformat_minor": 4
}
