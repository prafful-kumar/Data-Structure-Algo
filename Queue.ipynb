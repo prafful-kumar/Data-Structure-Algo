{
 "cells": [
  {
   "cell_type": "markdown",
   "metadata": {},
   "source": [
    "# Queue using Array"
   ]
  },
  {
   "cell_type": "code",
   "execution_count": 8,
   "metadata": {},
   "outputs": [],
   "source": [
    "class QueueUsingArray:\n",
    "    def __init__(self):\n",
    "        self.__count = 0\n",
    "        self.__arr = []\n",
    "        self.__front = 0\n",
    "        \n",
    "    def enqueue(self,data):\n",
    "        self.__arr.append(data)\n",
    "        self.__count = self.__count+1\n",
    "        \n",
    "    def dequeue(self):\n",
    "        if self.__count ==0:\n",
    "            return -1\n",
    "        ele = self.__arr[self.__front]\n",
    "        self.__front = self.__front + 1\n",
    "        self.__count = self.__count -1\n",
    "        return ele\n",
    "    def front(self):\n",
    "        if self.__count == 0:\n",
    "            return -1\n",
    "        return self.__arr[self.__front]\n",
    "    \n",
    "    def size(self):\n",
    "        return self.__count\n",
    "    \n",
    "    def isEmpty(self):\n",
    "        return self.__count == 0\n",
    "        "
   ]
  },
  {
   "cell_type": "code",
   "execution_count": 9,
   "metadata": {},
   "outputs": [
    {
     "name": "stdout",
     "output_type": "stream",
     "text": [
      "1\n",
      "2\n",
      "3\n",
      "-1\n"
     ]
    }
   ],
   "source": [
    "q = QueueUsingArray()\n",
    "q.enqueue(1)\n",
    "q.enqueue(2)\n",
    "q.enqueue(3)\n",
    "\n",
    "while(q.isEmpty() is False):\n",
    "    print(q.front())\n",
    "    q.dequeue()\n",
    "    \n",
    "print(q.dequeue())"
   ]
  },
  {
   "cell_type": "markdown",
   "metadata": {},
   "source": [
    "# Queue using Linked List\n",
    "\n",
    "Implement a Queue Data Structure specifically to store integer data using a Singly Linked List.\n",
    "The data members should be private.\n",
    "You need to implement the following public functions :\n",
    "1. Constructor:\n",
    "It initialises the data members as required.\n",
    "2. enqueue(data) :\n",
    "This function should take one argument of type integer. It enqueues the element into the queue and returns nothing.\n",
    "3. dequeue() :\n",
    "It dequeues/removes the element from the front of the queue and in turn, returns the element being dequeued or removed. In case the queue is empty, it returns -1.\n",
    "4. front() :\n",
    "It returns the element being kept at the front of the queue. In case the queue is empty, it returns -1.\n",
    "5. getSize() :\n",
    "It returns the size of the queue at any given instance of time.\n",
    "6. isEmpty() :\n",
    "It returns a boolean value indicating whether the queue is empty or not."
   ]
  },
  {
   "cell_type": "code",
   "execution_count": 1,
   "metadata": {},
   "outputs": [],
   "source": [
    "class Node :\n",
    "\n",
    "    def __init__(self, data) :\n",
    "        self.data = data\n",
    "        self.next = None\n",
    "\n",
    "\n",
    "class Queue :\n",
    "\n",
    "    #Define data members and __init__()\n",
    "    def __init__(self):\n",
    "        self.__head = None\n",
    "        self.__tail = None\n",
    "        self.__count = 0\n",
    "\n",
    "\n",
    "\n",
    "    '''----------------- Public Functions of Stack -----------------'''\n",
    "\n",
    "    def getSize(self) :\n",
    "        #Implement the getSize() function\n",
    "        return self.__count\n",
    "\n",
    "\n",
    "    def isEmpty(self) :\n",
    "        #Implement the isEmpty() function\n",
    "        return self.__count == 0\n",
    "\n",
    "\n",
    "    def enqueue(self, data) :\n",
    "        #Implement the enqueue(element) function\n",
    "        newnode = Node(data)\n",
    "        self.__count = self.__count +1\n",
    "        if self.__head == None:\n",
    "            self.__head = newnode\n",
    "            self.__tail = newnode\n",
    "        elif self.__head!=None:\n",
    "            self.__tail.next = newnode\n",
    "            self.__tail = newnode\n",
    "\n",
    "\n",
    "    def dequeue(self) :\n",
    "        #Implement the dequeue() function\n",
    "        if self.__head != None:\n",
    "            data = self.__head.data\n",
    "            self.__head = self.__head.next\n",
    "            self.__count = self.__count-1\n",
    "            return data\n",
    "        else:\n",
    "            return -1\n",
    "\n",
    "\n",
    "    def front(self) :\n",
    "        #Implement the front() function\n",
    "        if self.__head != None:\n",
    "            return self.__head.data\n",
    "        return -1\n",
    "\n"
   ]
  },
  {
   "cell_type": "markdown",
   "metadata": {},
   "source": [
    "# Inbuilt Queue"
   ]
  },
  {
   "cell_type": "code",
   "execution_count": 13,
   "metadata": {},
   "outputs": [
    {
     "name": "stdout",
     "output_type": "stream",
     "text": [
      "1\n",
      "3\n",
      "5\n",
      "7\n",
      "-1\n"
     ]
    }
   ],
   "source": [
    "q = QueueLL()\n",
    "q.enqueue(1)\n",
    "q.enqueue(3)\n",
    "q.enqueue(5)\n",
    "q.enqueue(7)\n",
    "while q.isEmpty() is False:\n",
    "    print(q.front())\n",
    "    q.dequeue()\n",
    "\n",
    "print(q.dequeue())"
   ]
  },
  {
   "cell_type": "markdown",
   "metadata": {},
   "source": [
    "# Queue using two stack\n",
    "\n"
   ]
  },
  {
   "cell_type": "code",
   "execution_count": 2,
   "metadata": {},
   "outputs": [],
   "source": [
    "\n",
    "class Stack :\n",
    "    def __init__(self):\n",
    "        self.q1=queue.Queue()\n",
    "        self.q2=queue.Queue()\n",
    "\t\n",
    "    def getSize(self) :\n",
    "        return self.q1.qsize()\n",
    "\t\n",
    "    def isEmpty(self) :\n",
    "        return self.getSize()==0\n",
    "\t\n",
    "    def push(self, data) :\n",
    "        self.q1.put(data)\n",
    "\t\t#Implement the push(element) function\n",
    "    \n",
    "    def pop(self) :\n",
    "\t\t#Implement the pop() function\n",
    "        if self.isEmpty():\n",
    "            return -1\n",
    "        while self.q1.qsize()>1:\n",
    "            self.q2.put(self.q1.get())\n",
    "        ans=self.q1.get()\n",
    "        temp=self.q1 # copying empty que\n",
    "        self.q1=self.q2 # because order remains same, we can copy remaining element\n",
    "        self.q2=temp\n",
    "        return ans\n",
    "    \n",
    "    def top(self) :\n",
    "\t\t#Implement the top() function\n",
    "        if self.isEmpty():\n",
    "            return -1\n",
    "        while self.q1.qsize()>1:\n",
    "            self.q2.put(self.q1.get())\n",
    "        ans=self.q1.get()\n",
    "        self.q2.put(ans)\n",
    "        \n",
    "        \n",
    "        temp=self.q1\n",
    "        self.q1=self.q2\n",
    "        self.q2=temp\n",
    "        return ans\n",
    "    \n",
    "# copying the queue to reduce computation time is a good method"
   ]
  },
  {
   "cell_type": "markdown",
   "metadata": {},
   "source": [
    "# Stack using two queues\n",
    "\n",
    "\n",
    "Implement a Stack Data Structure specifically to store integer data using two Queues. You have to implement it in such a way that the push operation is done in O(1) time and the pop and top operations are done in O(N) time.\n",
    "There should be two data members, both being Queues to store the data internally. You may use the inbuilt Queue.\n",
    "Implement the following public functions :\n",
    "1. Constructor:\n",
    "It initialises the data members as required.\n",
    "2. push(data) :\n",
    "This function should take one argument of type integer. It pushes the element into the stack and returns nothing.\n",
    "3. pop() :\n",
    "It pops the element from the top of the stack and in turn, returns the element being popped or deleted. In case the stack is empty, it returns -1.\n",
    "4. top :\n",
    "It returns the element being kept at the top of the stack. In case the stack is empty, it returns -1.\n",
    "5. size() :\n",
    "It returns the size of the stack at any given instance of time.\n",
    "6. isEmpty() :\n",
    "It returns a boolean value indicating whether the stack is empty or not."
   ]
  },
  {
   "cell_type": "code",
   "execution_count": 3,
   "metadata": {},
   "outputs": [],
   "source": [
    "import queue\n",
    "class Stack:\n",
    "    def __init__(self):\n",
    "        self.__q1 = queue.Queue()\n",
    "        self.__q2 = queue.Queue()\n",
    "    \n",
    "    def getSize(self):\n",
    "        return self.__q1.qsize()\n",
    "        \n",
    "    def isEmpty(self):\n",
    "        return self.__q1.empty()\n",
    "        \n",
    "    def push(self, data):\n",
    "        self.__q1.put(data)\n",
    "        \n",
    "    def pop(self):\n",
    "        if self.__q1.empty() is True:\n",
    "            return -1\n",
    "        while self.__q1.qsize():\n",
    "            if self.__q1.qsize() == 1:\n",
    "                data = self.__q1.get()\n",
    "            else:\n",
    "                self.__q2.put(self.__q1.get())\n",
    "        while self.__q2.qsize():\n",
    "            self.__q1.put(self.__q2.get())\n",
    "        return data\n",
    "            \n",
    "        \n",
    "    def top(self):\n",
    "        if self.__q1.empty() is True:\n",
    "            return -1\n",
    "        while self.__q1.qsize():\n",
    "            if self.__q1.qsize() == 1:\n",
    "                data = self.__q1.get()\n",
    "        self.__q2.put(data)\n",
    "        while self.__q2.qsize():\n",
    "            self.__q1.put(self.__q2.get())\n",
    "        return data\n"
   ]
  },
  {
   "cell_type": "markdown",
   "metadata": {},
   "source": [
    "# Reverse Queue\n",
    "\n",
    "You have been given a queue that can store integers as the data. You are required to write a function that reverses the populated queue itself without using any other data structures."
   ]
  },
  {
   "cell_type": "code",
   "execution_count": null,
   "metadata": {},
   "outputs": [],
   "source": [
    "def reverseQueue(inputQueue) :\n",
    "    # Your code goes here\n",
    "    length = inputQueue.qsize()\n",
    "    if length == 1 or length == 0:\n",
    "        return \n",
    "    first = inputQueue.get()\n",
    "    reverseQueue(inputQueue)\n",
    "    inputQueue.put(first)"
   ]
  },
  {
   "cell_type": "markdown",
   "metadata": {},
   "source": [
    "# Reverse the First K Elements in the Queue\n",
    "\n",
    "For a given queue containing all integer data, reverse the first K elements.\n",
    "You have been required to make the desired change in the input queue itself."
   ]
  },
  {
   "cell_type": "code",
   "execution_count": 3,
   "metadata": {},
   "outputs": [],
   "source": [
    "from queue import Queue\n",
    "def reverseQueue(inputQueue) :\n",
    "    # Your code goes here\n",
    "    length = inputQueue.qsize()\n",
    "    if length == 1 or length == 0:\n",
    "        return \n",
    "    first = inputQueue.get()\n",
    "    reverseQueue(inputQueue)\n",
    "    inputQueue.put(first)\n",
    "    \n",
    "    \n",
    "def reverseKElements(inputQueue, k) :\n",
    "    #Your code goes here\n",
    "    length = inputQueue.qsize()\n",
    "    if length == 1 or length == 0:\n",
    "        return\n",
    "    count= 0\n",
    "    temp = queue.Queue()\n",
    "    while count < k:\n",
    "        temp.put(inputQueue.get())\n",
    "        # print(temp,end =\" \")\n",
    "        count +=1\n",
    "    reverseQueue(temp)\n",
    "    while not inputQueue.empty():\n",
    "        temp.put(inputQueue.get())\n",
    "    return temp"
   ]
  },
  {
   "cell_type": "code",
   "execution_count": null,
   "metadata": {},
   "outputs": [],
   "source": []
  }
 ],
 "metadata": {
  "kernelspec": {
   "display_name": "Python 3",
   "language": "python",
   "name": "python3"
  },
  "language_info": {
   "codemirror_mode": {
    "name": "ipython",
    "version": 3
   },
   "file_extension": ".py",
   "mimetype": "text/x-python",
   "name": "python",
   "nbconvert_exporter": "python",
   "pygments_lexer": "ipython3",
   "version": "3.8.3"
  }
 },
 "nbformat": 4,
 "nbformat_minor": 4
}
