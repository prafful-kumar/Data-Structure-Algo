{
 "cells": [
  {
   "cell_type": "markdown",
   "metadata": {},
   "source": [
    "# Return subsequences"
   ]
  },
  {
   "cell_type": "code",
   "execution_count": 3,
   "metadata": {},
   "outputs": [],
   "source": [
    "def subs(s):\n",
    "    if len(s) ==0:\n",
    "        output = []\n",
    "        output.append(\"\")\n",
    "        return output\n",
    "    \n",
    "    # string not empty\n",
    "    smallerstring = s[1:]\n",
    "    smalleroutput = subs(smallerstring)\n",
    "    \n",
    "    output = []\n",
    "    # upper half character\n",
    "    for sub in smalleroutput:\n",
    "        output.append(sub)\n",
    "    # lower half character\n",
    "    for sub in smalleroutput:\n",
    "        subs_with_zeroth_char = s[0] + sub\n",
    "        output.append(subs_with_zeroth_char)\n",
    "        \n",
    "    return output"
   ]
  },
  {
   "cell_type": "code",
   "execution_count": 4,
   "metadata": {},
   "outputs": [
    {
     "data": {
      "text/plain": [
       "['', 'c', 'b', 'bc', 'a', 'ac', 'ab', 'abc']"
      ]
     },
     "execution_count": 4,
     "metadata": {},
     "output_type": "execute_result"
    }
   ],
   "source": [
    "subs(\"abc\")"
   ]
  },
  {
   "cell_type": "markdown",
   "metadata": {},
   "source": [
    "# Keypad"
   ]
  },
  {
   "cell_type": "code",
   "execution_count": 11,
   "metadata": {},
   "outputs": [],
   "source": [
    "def getstring(d):\n",
    "    if d == 2:\n",
    "        return \"abc\"\n",
    "    if d == 3:\n",
    "        return \"def\"\n",
    "    if d == 4:\n",
    "        return \"ghi\"\n",
    "    if d == 5:\n",
    "        return \"jkl\"\n",
    "    if d == 6:\n",
    "        return \"mno\"\n",
    "    if d == 7:\n",
    "        return \"pqrs\"\n",
    "    return \" \""
   ]
  },
  {
   "cell_type": "code",
   "execution_count": 12,
   "metadata": {},
   "outputs": [],
   "source": [
    "def keypad(n):\n",
    "    if n == 0:\n",
    "        output = []\n",
    "        output.append(\"\")\n",
    "        return output\n",
    "    \n",
    "    smallernumber = n//10 # integer division\n",
    "    lastdigit = n%10\n",
    "    \n",
    "    smalleroutput = keypad(smallernumber)\n",
    "    optionsForLastDigit = getstring(lastdigit)\n",
    "    output = []\n",
    "    \n",
    "    for s in smalleroutput:\n",
    "        for c in optionsForLastDigit:\n",
    "            option = s + c\n",
    "            output.append(option)\n",
    "    return output\n",
    "        "
   ]
  },
  {
   "cell_type": "code",
   "execution_count": null,
   "metadata": {},
   "outputs": [],
   "source": []
  },
  {
   "cell_type": "code",
   "execution_count": 13,
   "metadata": {},
   "outputs": [
    {
     "data": {
      "text/plain": [
       "['ad', 'ae', 'af', 'bd', 'be', 'bf', 'cd', 'ce', 'cf']"
      ]
     },
     "execution_count": 13,
     "metadata": {},
     "output_type": "execute_result"
    }
   ],
   "source": [
    "keypad(23)"
   ]
  },
  {
   "cell_type": "code",
   "execution_count": 14,
   "metadata": {
    "scrolled": false
   },
   "outputs": [
    {
     "data": {
      "text/plain": [
       "(36,\n",
       " ['adp',\n",
       "  'adq',\n",
       "  'adr',\n",
       "  'ads',\n",
       "  'aep',\n",
       "  'aeq',\n",
       "  'aer',\n",
       "  'aes',\n",
       "  'afp',\n",
       "  'afq',\n",
       "  'afr',\n",
       "  'afs',\n",
       "  'bdp',\n",
       "  'bdq',\n",
       "  'bdr',\n",
       "  'bds',\n",
       "  'bep',\n",
       "  'beq',\n",
       "  'ber',\n",
       "  'bes',\n",
       "  'bfp',\n",
       "  'bfq',\n",
       "  'bfr',\n",
       "  'bfs',\n",
       "  'cdp',\n",
       "  'cdq',\n",
       "  'cdr',\n",
       "  'cds',\n",
       "  'cep',\n",
       "  'ceq',\n",
       "  'cer',\n",
       "  'ces',\n",
       "  'cfp',\n",
       "  'cfq',\n",
       "  'cfr',\n",
       "  'cfs'])"
      ]
     },
     "execution_count": 14,
     "metadata": {},
     "output_type": "execute_result"
    }
   ],
   "source": [
    "output = keypad(237)\n",
    "len(output), output"
   ]
  },
  {
   "cell_type": "markdown",
   "metadata": {},
   "source": [
    "# print directly, dont return list and then print"
   ]
  },
  {
   "cell_type": "markdown",
   "metadata": {},
   "source": [
    "# Factorial"
   ]
  },
  {
   "cell_type": "code",
   "execution_count": null,
   "metadata": {},
   "outputs": [],
   "source": [
    "def fact(n):\n",
    "    if n ==0:\n",
    "        return 1\n",
    "    smalloutput = fact(n-1)\n",
    "    print(n*smalloutput) # problem will occur, induction step, return what?\n",
    "    "
   ]
  },
  {
   "cell_type": "code",
   "execution_count": 15,
   "metadata": {},
   "outputs": [
    {
     "name": "stdout",
     "output_type": "stream",
     "text": [
      "1\n",
      "2\n",
      "6\n",
      "24\n",
      "120\n"
     ]
    },
    {
     "data": {
      "text/plain": [
       "120"
      ]
     },
     "execution_count": 15,
     "metadata": {},
     "output_type": "execute_result"
    }
   ],
   "source": [
    "def fact(n):\n",
    "    if n ==0:\n",
    "        return 1\n",
    "    smalloutput = fact(n-1)\n",
    "    output = n*smalloutput\n",
    "    print(output)\n",
    "    return(output)\n",
    "\n",
    "fact(5) # will not print only 120, but also all prvious"
   ]
  },
  {
   "cell_type": "code",
   "execution_count": 20,
   "metadata": {},
   "outputs": [],
   "source": [
    "def facthelper(n):\n",
    "    if n == 0:\n",
    "        return 1\n",
    "    smalloutput = facthelper(n-1)\n",
    "    output = n*smalloutput\n",
    "    return output\n",
    "\n",
    "# dummy function\n",
    "def fact(n):\n",
    "    output = facthelper(n)\n",
    "    print(output)"
   ]
  },
  {
   "cell_type": "code",
   "execution_count": 21,
   "metadata": {},
   "outputs": [
    {
     "name": "stdout",
     "output_type": "stream",
     "text": [
      "120\n"
     ]
    }
   ],
   "source": [
    "fact(5)"
   ]
  },
  {
   "cell_type": "markdown",
   "metadata": {},
   "source": [
    "# Recursive function should print(not by helper or dummy function)"
   ]
  },
  {
   "cell_type": "markdown",
   "metadata": {},
   "source": [
    "Keep passing the output downwards and simultaneously building the answer. This approach will help when we want to print rather then return."
   ]
  },
  {
   "cell_type": "code",
   "execution_count": 16,
   "metadata": {},
   "outputs": [],
   "source": [
    "def printfac(n,ans =1):\n",
    "    if n == 0:\n",
    "        print(ans)\n",
    "        return\n",
    "    ans =ans *n\n",
    "    printfac(n-1,ans)"
   ]
  },
  {
   "cell_type": "code",
   "execution_count": 17,
   "metadata": {},
   "outputs": [
    {
     "name": "stdout",
     "output_type": "stream",
     "text": [
      "120\n"
     ]
    }
   ],
   "source": [
    "printfac(5,1)"
   ]
  },
  {
   "cell_type": "markdown",
   "metadata": {},
   "source": [
    "# Print minimum value Array "
   ]
  },
  {
   "cell_type": "code",
   "execution_count": 22,
   "metadata": {},
   "outputs": [],
   "source": [
    "def minList(l):\n",
    "    if len(l)==1:\n",
    "        return l[0]\n",
    "    \n",
    "    minSmallArray = minList(l[1:])\n",
    "    overallMin = min(minSmallArray,l[0])\n",
    "    return overallMin"
   ]
  },
  {
   "cell_type": "code",
   "execution_count": 23,
   "metadata": {},
   "outputs": [],
   "source": [
    "def printMin(l, minSoFar = 10**6):\n",
    "    if len(l) == 0:\n",
    "        print(minSoFar)\n",
    "        return\n",
    "    \n",
    "    newMin = min(minSoFar,l[0])\n",
    "    printMin(l[1:],newMin)"
   ]
  },
  {
   "cell_type": "code",
   "execution_count": 24,
   "metadata": {},
   "outputs": [
    {
     "name": "stdout",
     "output_type": "stream",
     "text": [
      "-8\n"
     ]
    }
   ],
   "source": [
    "printMin([1,2,3,6,87,-8,-7,2])"
   ]
  },
  {
   "cell_type": "markdown",
   "metadata": {},
   "source": [
    "# Print Subsequence during recursive call"
   ]
  },
  {
   "cell_type": "code",
   "execution_count": 1,
   "metadata": {},
   "outputs": [],
   "source": [
    "def printSubs(s,o):\n",
    "    if len(s)==0:\n",
    "        print(o)\n",
    "        return\n",
    "    \n",
    "    # don't include 0th char\n",
    "    printSubs(s[1:],o)\n",
    "    \n",
    "    # include 0th char\n",
    "    newOutput = o + s[0]\n",
    "    printSubs(s[1:],newOutput)"
   ]
  },
  {
   "cell_type": "code",
   "execution_count": 2,
   "metadata": {},
   "outputs": [
    {
     "name": "stdout",
     "output_type": "stream",
     "text": [
      "\n",
      "c\n",
      "b\n",
      "bc\n",
      "a\n",
      "ac\n",
      "ab\n",
      "abc\n"
     ]
    }
   ],
   "source": [
    "printSubs(\"abc\",\"\")"
   ]
  },
  {
   "cell_type": "markdown",
   "metadata": {},
   "source": [
    "# Print keypad combination code during recursive call"
   ]
  },
  {
   "cell_type": "code",
   "execution_count": 3,
   "metadata": {},
   "outputs": [],
   "source": [
    "def getstring(d):\n",
    "    if d == 2:\n",
    "        return \"abc\"\n",
    "    if d == 3:\n",
    "        return \"def\"\n",
    "    if d == 4:\n",
    "        return \"ghi\"\n",
    "    if d == 5:\n",
    "        return \"jkl\"\n",
    "    if d == 6:\n",
    "        return \"mno\"\n",
    "    if d == 7:\n",
    "        return \"pqrs\"\n",
    "    if d == 8:\n",
    "        return \"tuv\"\n",
    "    if d == 9:\n",
    "        return \"wxyz\"\n",
    "    return \" \""
   ]
  },
  {
   "cell_type": "code",
   "execution_count": 4,
   "metadata": {},
   "outputs": [],
   "source": [
    "def printKeypad(n, outputSoFar):\n",
    "    if n == 0:\n",
    "        print(outputSoFar)\n",
    "        return\n",
    "    smallNumber = n//10\n",
    "    LastDigit = n%10\n",
    "    \n",
    "    s = getstring(LastDigit)\n",
    "    \n",
    "    for charac in s:\n",
    "        newOutput = charac + outputSoFar\n",
    "        printKeypad(smallNumber,newOutput)"
   ]
  },
  {
   "cell_type": "code",
   "execution_count": 7,
   "metadata": {},
   "outputs": [
    {
     "name": "stdout",
     "output_type": "stream",
     "text": [
      "adg\n",
      "bdg\n",
      "cdg\n",
      "aeg\n",
      "beg\n",
      "ceg\n",
      "afg\n",
      "bfg\n",
      "cfg\n",
      "adh\n",
      "bdh\n",
      "cdh\n",
      "aeh\n",
      "beh\n",
      "ceh\n",
      "afh\n",
      "bfh\n",
      "cfh\n",
      "adi\n",
      "bdi\n",
      "cdi\n",
      "aei\n",
      "bei\n",
      "cei\n",
      "afi\n",
      "bfi\n",
      "cfi\n"
     ]
    }
   ],
   "source": [
    "printKeypad(234,\"\")"
   ]
  },
  {
   "cell_type": "code",
   "execution_count": null,
   "metadata": {},
   "outputs": [],
   "source": []
  }
 ],
 "metadata": {
  "kernelspec": {
   "display_name": "Python 3",
   "language": "python",
   "name": "python3"
  },
  "language_info": {
   "codemirror_mode": {
    "name": "ipython",
    "version": 3
   },
   "file_extension": ".py",
   "mimetype": "text/x-python",
   "name": "python",
   "nbconvert_exporter": "python",
   "pygments_lexer": "ipython3",
   "version": "3.8.3"
  }
 },
 "nbformat": 4,
 "nbformat_minor": 4
}
