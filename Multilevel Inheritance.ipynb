{
 "cells": [
  {
   "cell_type": "code",
   "execution_count": 7,
   "metadata": {},
   "outputs": [],
   "source": [
    "class vehicle:\n",
    "    \n",
    "\n",
    "    def __init__(self,make,model,fuel):\n",
    "        self.make = make\n",
    "        self.model = model\n",
    "        self.fuel = fuel\n",
    "   \n",
    "class Car(vehicle):\n",
    "    \n",
    "    # getting parent's attribute\n",
    "    def __init__(self,make,model,fuel,AC,sunroof):\n",
    "        \n",
    "        super(Car,self).__init__(make,model,fuel)\n",
    "\n",
    "        self.AC = AC\n",
    "        self.sunroof = sunroof\n",
    "        \n",
    " \n",
    "        "
   ]
  },
  {
   "cell_type": "code",
   "execution_count": 8,
   "metadata": {},
   "outputs": [],
   "source": [
    "class electric_car(Car):\n",
    "    \n",
    "    def __init__(self,make,model,fuel,AC,sunroof,price,distance):\n",
    "        super(electric_car,self).__init__(make,model,fuel,AC,sunroof)\n",
    "        \n",
    "        self.price = price\n",
    "        self.distance = distance"
   ]
  },
  {
   "cell_type": "code",
   "execution_count": 9,
   "metadata": {},
   "outputs": [],
   "source": [
    "obj = electric_car(\"Tata\",2019,\"Lithium ion\", True, True, 15,\"450km\" )"
   ]
  },
  {
   "cell_type": "code",
   "execution_count": 10,
   "metadata": {},
   "outputs": [
    {
     "data": {
      "text/plain": [
       "{'make': 'Tata',\n",
       " 'model': 2019,\n",
       " 'fuel': 'Lithium ion',\n",
       " 'AC': True,\n",
       " 'sunroof': True,\n",
       " 'price': 15,\n",
       " 'distance': '450km'}"
      ]
     },
     "execution_count": 10,
     "metadata": {},
     "output_type": "execute_result"
    }
   ],
   "source": [
    "obj.__dict__"
   ]
  },
  {
   "cell_type": "code",
   "execution_count": null,
   "metadata": {},
   "outputs": [],
   "source": []
  },
  {
   "cell_type": "code",
   "execution_count": null,
   "metadata": {},
   "outputs": [],
   "source": []
  }
 ],
 "metadata": {
  "kernelspec": {
   "display_name": "Python 3",
   "language": "python",
   "name": "python3"
  },
  "language_info": {
   "codemirror_mode": {
    "name": "ipython",
    "version": 3
   },
   "file_extension": ".py",
   "mimetype": "text/x-python",
   "name": "python",
   "nbconvert_exporter": "python",
   "pygments_lexer": "ipython3",
   "version": "3.8.3"
  }
 },
 "nbformat": 4,
 "nbformat_minor": 4
}
